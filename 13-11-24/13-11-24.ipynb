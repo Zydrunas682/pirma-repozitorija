{
 "cells": [
  {
   "cell_type": "code",
   "execution_count": 2,
   "metadata": {},
   "outputs": [
    {
     "name": "stdout",
     "output_type": "stream",
     "text": [
      "Elementų didesnių už 10 skaičius: 36\n"
     ]
    }
   ],
   "source": [
    "# 2Priimdami sąrašą kaip parametrą aprašykite funkcijas kurios:\n",
    "# Suskaičiuotų kiek sąrašuose yra elementų didesnių už 10;\n",
    "#  [5, 18, 25 .. ]\n",
    "# [20, 6, 23 .. ]\n",
    "\n",
    "\n",
    "def skaiciuoti_elementus_didesnius_uz_10(sarasas):\n",
    "    \"\"\"\n",
    "    Funkcija suskaičiuoja, kiek elementų sub-sąrašuose yra didesnių už 10.\n",
    "\n",
    "    Parametrai:\n",
    "    sarasas (list): Pagrindinis sąrašas, kurio elementai yra sub-sąrašai.\n",
    "\n",
    "    Grąžina:\n",
    "    int: Elementų, kurie yra didesni už 10, skaičius.\n",
    "    \"\"\"\n",
    "    skaicius = 0  # Kintamasis, kuris kaups bendrą didesnių už 10 elementų skaičių\n",
    "    \n",
    "    # Pereiname per kiekvieną sub-sąrašą pagrindiniame sąraše\n",
    "    for sub_sarasas in sarasas:\n",
    "        # Suskaičiuojame, kiek elementų sub-sąraše yra didesnių už 10\n",
    "        skaicius += sum(1 for elementas in sub_sarasas if elementas > 10)\n",
    "    \n",
    "    return skaicius\n",
    "\n",
    "# Pavyzdys, kaip naudoti funkciją:\n",
    "pagrindinis_sarasas = [\n",
    "    [5, 18, 25, 7, 13],  # Pirmas sub-sąrašas\n",
    "    [20, 6, 23, 14, 19], # Antras sub-sąrašas\n",
    "    [22, 15, 11, 8, 24], # Trečias sub-sąrašas\n",
    "    [25, 19, 9, 12, 21], # Ketvirtas sub-sąrašas\n",
    "    [18, 17, 13, 6, 10], # Penktas sub-sąrašas\n",
    "    [9, 5, 20, 23, 8],   # Šeštas sub-sąrašas\n",
    "    [24, 11, 7, 17, 22], # Septintas sub-sąrašas\n",
    "    [16, 14, 25, 19, 20],# Aštuntas sub-sąrašas\n",
    "    [13, 21, 8, 15, 12], # Devintas sub-sąrašas\n",
    "    [19, 10, 5, 24, 18]  # Dešimtas sub-sąrašas\n",
    "]\n",
    "\n",
    "# Naudojame funkciją\n",
    "skaicius = skaiciuoti_elementus_didesnius_uz_10(pagrindinis_sarasas)\n",
    "\n",
    "# Išvedame rezultatą\n",
    "print(f\"Elementų didesnių už 10 skaičius: {skaicius}\")\n"
   ]
  },
  {
   "cell_type": "code",
   "execution_count": null,
   "metadata": {},
   "outputs": [],
   "source": [
    "# Suskaičiuotų kiek sąrašuose yra elementų didesnių už 10;\n",
    "#  [5, 18, 25 .. ]\n",
    "# [20, 6, 23 .. ]\n",
    "# musu sprendimas\n",
    "\n",
    "def max_value(sarasas):\n",
    "    max_values = []\n",
    "    for vidinis_listas in sarasas:\n",
    "        max_val = max(vidinis_listas)\n",
    "        max_values.append(max_val)\n",
    "    return max_values\n",
    "max_list = max_value(sarasas)       \n",
    "print(max_list)"
   ]
  },
  {
   "cell_type": "code",
   "execution_count": null,
   "metadata": {},
   "outputs": [],
   "source": [
    "#C Suskaičiuotų kiekvieno antro lygio sąrašo su vienodais indeksais sumas (t.y. suma reikšmių turinčių indeksą 0, 1 ir t.t.)\n",
    "# Pavyzdinis rezultatas:\n",
    "# [25, 24, 48]\n",
    "pagrindinis_sarasas = [\n",
    "    [5, 18, 25],  \n",
    "    [20, 6, 23], \n",
    "    [22, 15, 11], \n",
    "    [25, 19, 9], \n",
    "    [18, 17, 13]\n",
    "]\n",
    "[90, 75, 71]\n",
    "def skaiciuoti_sumas_pagal_indeksus(sarasas):\n",
    "    \"\"\"\n",
    "    Funkcija suskaičiuoja kiekvieno antro lygio sąrašo su vienodais indeksais sumas.\n",
    "\n",
    "    Parametrai:\n",
    "    sarasas (list): Pagrindinis sąrašas, kuriame yra sub-sąrašai.\n",
    "\n",
    "    Grąžina:\n",
    "    list: Sąrašas su kiekvieno antro lygio sąrašo indeksų sumomis.\n",
    "    \"\"\"\n",
    "    # Pirmiausia sukuriame sąrašą, kurio ilgis bus toks pat, kaip sub-sąrašų ilgio\n",
    "    sumos = [0] * len(sarasas[0])  # Tarkime, kad visi sub-sąrašai turi vienodą ilgį\n",
    "    \n",
    "    # Pereiname per kiekvieną sub-sąrašą pagrindiniame sąraše\n",
    "    for sub_sarasas in sarasas:\n",
    "        for i in range(len(sub_sarasas)):\n",
    "            sumos[i] += sub_sarasas[i]  # Pridedame reikšmes pagal indeksą\n",
    "    \n",
    "    return sumos\n",
    "\n",
    "# Pavyzdys, kaip naudoti funkciją:\n",
    "pagrindinis_sarasas = [\n",
    "    [5, 18, 25],  \n",
    "    [20, 6, 23], \n",
    "    [22, 15, 11], \n",
    "    [25, 19, 9], \n",
    "    [18, 17, 13]\n",
    "]\n",
    "\n",
    "# Naudojame funkciją\n",
    "sumos = skaiciuoti_sumas_pagal_indeksus(pagrindinis_sarasas)\n",
    "\n",
    "# Išvedame rezultatą\n",
    "print(f\"Sumos pagal indeksus: {sumos}\")\n"
   ]
  },
  {
   "cell_type": "code",
   "execution_count": null,
   "metadata": {},
   "outputs": [],
   "source": [
    "class objektas {\n",
    "    \n",
    "}"
   ]
  },
  {
   "cell_type": "code",
   "execution_count": 6,
   "metadata": {},
   "outputs": [
    {
     "ename": "IndentationError",
     "evalue": "unindent does not match any outer indentation level (<string>, line 7)",
     "output_type": "error",
     "traceback": [
      "\u001b[1;36m  File \u001b[1;32m<string>:7\u001b[1;36m\u001b[0m\n\u001b[1;33m    sum_similar_indexes = similar_index_values(sarasas)\u001b[0m\n\u001b[1;37m                                                              ^\u001b[0m\n\u001b[1;31mIndentationError\u001b[0m\u001b[1;31m:\u001b[0m unindent does not match any outer indentation level\n"
     ]
    }
   ],
   "source": [
    "def similar_index_values(sarasas):\n",
    "     all_values = [sum(values) \n",
    "        for values in zip(*sarasas)]\n",
    "     return all_values\n",
    "\n",
    "\n",
    " sum_similar_indexes = similar_index_values(sarasas)       \n",
    "print(sum_similar_indexes)"
   ]
  },
  {
   "cell_type": "code",
   "execution_count": 8,
   "metadata": {},
   "outputs": [
    {
     "name": "stdout",
     "output_type": "stream",
     "text": [
      "Pailginti sąrašai: [[5, 18, 25, 8, 8, 8, 8], [20, 6, 23, 8, 8, 8, 8], [22, 15, 11, 8, 8, 8, 8], [25, 19, 9, 8, 8, 8, 8], [18, 17, 13, 8, 8, 8, 8]]\n"
     ]
    }
   ],
   "source": [
    "# d Visus antro lygio sąrašus“pailginkitų” iki 7 elementų\n",
    "def pailginti_sarasus(sarasas, ilgis=7, uzpildymas=8):\n",
    "    \"\"\"\n",
    "    Funkcija pailgina kiekvieną vidinį sąrašą iki nurodyto ilgio, \n",
    "    užpildydama trūkstamus elementus nurodyta reikšme.\n",
    "\n",
    "    Parametrai:\n",
    "    sarasas (list): Pagrindinis sąrašas, kuriame yra vidiniai sąrašai.\n",
    "    ilgis (int): Norimas vidinio sąrašo ilgis.\n",
    "    uzpildymas (int): Reikšmė, kuri bus naudojama užpildyti trūkstamus elementus.\n",
    "\n",
    "    Grąžina:\n",
    "    list: Pagrindinis sąrašas su pailgintais vidiniais sąrašais.\n",
    "    \"\"\"\n",
    "    pailginti_sarasai = []\n",
    "    \n",
    "    for vidinis_sarasas in sarasas:\n",
    "        # Jei vidinio sąrašo ilgis mažesnis nei pageidaujamas, užpildome su reikšme\n",
    "        if len(vidinis_sarasas) < ilgis:\n",
    "            vidinis_sarasas.extend([uzpildymas] * (ilgis - len(vidinis_sarasas)))  # Užpildome su nuliais (arba kita reikšme)\n",
    "        pailginti_sarasai.append(vidinis_sarasas)\n",
    "    \n",
    "    return pailginti_sarasai\n",
    "\n",
    "# Pavyzdys, kaip naudoti funkciją:\n",
    "pagrindinis_sarasas = [\n",
    "    [5, 18, 25],  \n",
    "    [20, 6, 23], \n",
    "    [22, 15, 11], \n",
    "    [25, 19, 9], \n",
    "    [18, 17, 13]\n",
    "]\n",
    "\n",
    "# Naudojame funkciją\n",
    "pailginti_sarasai = pailginti_sarasus(pagrindinis_sarasas)\n",
    "\n",
    "# Išvedame rezultatą\n",
    "print(f\"Pailginti sąrašai: {pailginti_sarasai}\")\n"
   ]
  },
  {
   "cell_type": "code",
   "execution_count": 9,
   "metadata": {},
   "outputs": [
    {
     "name": "stdout",
     "output_type": "stream",
     "text": [
      "Vidinių sąrašų sumos: [48, 49, 48, 53, 48]\n"
     ]
    }
   ],
   "source": [
    "# E Suskaičiuotų kiekvieno iš antro lygio sąrašų elementų sumas ir jas panaudotų kaip reikšmes sukuriant naują masyvą. \n",
    "# Pavyzdinis rezultatas:\n",
    "# [48, 49]\n",
    "def skaiciuoti_sumas_vidiniu_sarasu(sarasas):\n",
    "    \"\"\"\n",
    "    Funkcija suskaičiuoja kiekvieno vidinio sąrašo sumas ir grąžina sąrašą su tomis sumomis.\n",
    "\n",
    "    Parametrai:\n",
    "    sarasas (list): Pagrindinis sąrašas, kuriame yra vidiniai sąrašai.\n",
    "\n",
    "    Grąžina:\n",
    "    list: Sąrašas su kiekvieno vidinio sąrašo sumomis.\n",
    "    \"\"\"\n",
    "    # Sukuriame sąrašą, kuriame bus sumos\n",
    "    sumos = []\n",
    "    \n",
    "    # Pereiname per kiekvieną vidinį sąrašą pagrindiniame sąraše\n",
    "    for vidinis_sarasas in sarasas:\n",
    "        # Suskaičiuojame vidinio sąrašo sumą\n",
    "        suma = sum(vidinis_sarasas)\n",
    "        # Pridedame sumą į sąrašą\n",
    "        sumos.append(suma)\n",
    "    \n",
    "    return sumos\n",
    "\n",
    "# Pavyzdys, kaip naudoti funkciją:\n",
    "pagrindinis_sarasas = [\n",
    "    [5, 18, 25],  # Pirmas vidinis sąrašas\n",
    "    [20, 6, 23],  # Antras vidinis sąrašas\n",
    "    [22, 15, 11], # Trečias vidinis sąrašas\n",
    "    [25, 19, 9],  # Ketvirtas vidinis sąrašas\n",
    "    [18, 17, 13]  # Penktas vidinis sąrašas\n",
    "]\n",
    "\n",
    "# Naudojame funkciją\n",
    "sumos = skaiciuoti_sumas_vidiniu_sarasu(pagrindinis_sarasas)\n",
    "\n",
    "# Išvedame rezultatą\n",
    "print(f\"Vidinių sąrašų sumos: {sumos}\")\n"
   ]
  },
  {
   "cell_type": "code",
   "execution_count": 12,
   "metadata": {},
   "outputs": [
    {
     "ename": "NameError",
     "evalue": "name 'sarasas' is not defined",
     "output_type": "error",
     "traceback": [
      "\u001b[1;31m---------------------------------------------------------------------------\u001b[0m",
      "\u001b[1;31mNameError\u001b[0m                                 Traceback (most recent call last)",
      "Cell \u001b[1;32mIn[12], line 10\u001b[0m\n\u001b[0;32m      8\u001b[0m         all_sum_values\u001b[38;5;241m.\u001b[39mappend(sum_value)\n\u001b[0;32m      9\u001b[0m     \u001b[38;5;28;01mreturn\u001b[39;00m all_sum_values\n\u001b[1;32m---> 10\u001b[0m all_sum_values \u001b[38;5;241m=\u001b[39m sum_of_sublists_values(\u001b[43msarasas\u001b[49m)\n\u001b[0;32m     11\u001b[0m \u001b[38;5;28mprint\u001b[39m(all_sum_values)\n",
      "\u001b[1;31mNameError\u001b[0m: name 'sarasas' is not defined"
     ]
    }
   ],
   "source": [
    "# E Suskaičiuotų kiekvieno iš antro lygio sąrašų elementų sumas ir jas panaudotų kaip reikšmes sukuriant naują masyvą. \n",
    "# Pavyzdinis rezultatas:\n",
    "# [48, 49] Mussu sprendimai\n",
    "def sum_of_sublists_values(sarasas):\n",
    "    all_sum_values = []\n",
    "    for vidinis_listas in sarasas:\n",
    "        sum_value = sum(vidinis_listas)\n",
    "        all_sum_values.append(sum_value)\n",
    "    return all_sum_values\n",
    "all_sum_values = sum_of_sublists_values(sarasas)\n",
    "print(all_sum_values)"
   ]
  },
  {
   "cell_type": "code",
   "execution_count": null,
   "metadata": {},
   "outputs": [],
   "source": [
    "# Parašykite klasę, turinčią konstruktorių. Konstruktorius turi\n",
    "# spausdinti pranešimą, jog objektas yra sukurtas.\n",
    "#include <iostream>\n",
    "\n",
    "class Objektas {\n",
    "public:\n",
    "    // Konstruktorius\n",
    "    Objektas() {\n",
    "        std::cout << \"Objektas yra sukurtas!\" << std::endl;\n",
    "    }\n",
    "};\n",
    "\n",
    "int main() {\n",
    "    // Sukuriame Objektas klasės objektą\n",
    "    Objektas obj; // Konstruktorius bus iškviestas ir atspausdins pranešimą\n",
    "    return 0;\n",
    "}\n"
   ]
  },
  {
   "cell_type": "code",
   "execution_count": 15,
   "metadata": {},
   "outputs": [
    {
     "ename": "SyntaxError",
     "evalue": "expected ':' (3139640754.py, line 1)",
     "output_type": "error",
     "traceback": [
      "\u001b[1;36m  Cell \u001b[1;32mIn[15], line 1\u001b[1;36m\u001b[0m\n\u001b[1;33m    class objektas ()\u001b[0m\n\u001b[1;37m                     ^\u001b[0m\n\u001b[1;31mSyntaxError\u001b[0m\u001b[1;31m:\u001b[0m expected ':'\n"
     ]
    }
   ],
   "source": [
    "class objektas ()\n",
    "    def __init__(self) 'nu va'\n",
    "        print(nu va)"
   ]
  },
  {
   "cell_type": "code",
   "execution_count": 16,
   "metadata": {},
   "outputs": [
    {
     "name": "stdout",
     "output_type": "stream",
     "text": [
      "nu va\n"
     ]
    }
   ],
   "source": [
    "class Objektas:\n",
    "    def __init__(self):\n",
    "        print(\"nu va\")\n",
    "\n",
    "# Sukuriame Objektas klasės objektą\n",
    "obj = Objektas()  # Iškviečiant konstruktorų, bus atspausdinta \"nu va\"\n"
   ]
  },
  {
   "cell_type": "code",
   "execution_count": 27,
   "metadata": {},
   "outputs": [
    {
     "name": "stdout",
     "output_type": "stream",
     "text": [
      "ka as sakiau\n"
     ]
    }
   ],
   "source": [
    "class Objektas:\n",
    "    def __init__ (self):\n",
    "        print('ka as sakiau')\n",
    "\n",
    "obj = Objektas ()"
   ]
  },
  {
   "cell_type": "code",
   "execution_count": 29,
   "metadata": {},
   "outputs": [
    {
     "ename": "SyntaxError",
     "evalue": "invalid syntax (69851770.py, line 1)",
     "output_type": "error",
     "traceback": [
      "\u001b[1;36m  Cell \u001b[1;32mIn[29], line 1\u001b[1;36m\u001b[0m\n\u001b[1;33m    ka as sakiau\u001b[0m\n\u001b[1;37m       ^\u001b[0m\n\u001b[1;31mSyntaxError\u001b[0m\u001b[1;31m:\u001b[0m invalid syntax\n"
     ]
    }
   ],
   "source": [
    "ka as sakiau\n",
    "\n"
   ]
  },
  {
   "cell_type": "code",
   "execution_count": 30,
   "metadata": {},
   "outputs": [
    {
     "ename": "SyntaxError",
     "evalue": "invalid syntax. Perhaps you forgot a comma? (3535956087.py, line 5)",
     "output_type": "error",
     "traceback": [
      "\u001b[1;36m  Cell \u001b[1;32mIn[30], line 5\u001b[1;36m\u001b[0m\n\u001b[1;33m    print(objekta padariau)\u001b[0m\n\u001b[1;37m          ^\u001b[0m\n\u001b[1;31mSyntaxError\u001b[0m\u001b[1;31m:\u001b[0m invalid syntax. Perhaps you forgot a comma?\n"
     ]
    }
   ],
   "source": [
    "# Parašykite klasę, turinčią konstruktorių. Konstruktorius turi\n",
    "# spausdinti pranešimą, jog objektas yra sukurtas.\n",
    "class ManoKlase :\n",
    "    def __init__(self):\n",
    "        print(objekta padariau)"
   ]
  }
 ],
 "metadata": {
  "kernelspec": {
   "display_name": "Python 3",
   "language": "python",
   "name": "python3"
  },
  "language_info": {
   "codemirror_mode": {
    "name": "ipython",
    "version": 3
   },
   "file_extension": ".py",
   "mimetype": "text/x-python",
   "name": "python",
   "nbconvert_exporter": "python",
   "pygments_lexer": "ipython3",
   "version": "3.13.0"
  }
 },
 "nbformat": 4,
 "nbformat_minor": 2
}
