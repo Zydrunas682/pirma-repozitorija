{
 "cells": [
  {
   "cell_type": "code",
   "execution_count": 9,
   "metadata": {},
   "outputs": [
    {
     "name": "stdout",
     "output_type": "stream",
     "text": [
      "77\n",
      "154\n",
      "231\n",
      "308\n",
      "385\n",
      "462\n",
      "539\n",
      "616\n",
      "693\n",
      "770\n",
      "847\n",
      "924\n",
      "1001\n",
      "1078\n",
      "1155\n",
      "1232\n",
      "1309\n",
      "1386\n",
      "1463\n",
      "1540\n",
      "1617\n",
      "1694\n",
      "1771\n",
      "1848\n",
      "1925\n",
      "2002\n",
      "2079\n",
      "2156\n",
      "2233\n",
      "2310\n",
      "2387\n",
      "2464\n",
      "2541\n",
      "2618\n",
      "2695\n",
      "2772\n",
      "2849\n",
      "2926\n"
     ]
    }
   ],
   "source": [
    "limitas = 3000\n",
    "\n",
    "rezultatas = \"\"\n",
    "\n",
    "for skaicius in range (1, limitas + 1):\n",
    "    if skaicius % 77 == 0 :\n",
    "        print(skaicius)\n"
   ]
  },
  {
   "cell_type": "code",
   "execution_count": 23,
   "metadata": {},
   "outputs": [],
   "source": [
    "print = (\"\"\"STRINGAS tesiasi trijose eilutese\"\"\")"
   ]
  },
  {
   "cell_type": "code",
   "execution_count": 11,
   "metadata": {},
   "outputs": [
    {
     "name": "stdout",
     "output_type": "stream",
     "text": [
      "8\n"
     ]
    }
   ],
   "source": [
    "a = 5\n",
    "a += 3\n",
    "print(a)"
   ]
  },
  {
   "cell_type": "code",
   "execution_count": 20,
   "metadata": {},
   "outputs": [
    {
     "name": "stdout",
     "output_type": "stream",
     "text": [
      "10\n"
     ]
    }
   ],
   "source": [
    "a = 6\n",
    "a += 4\n",
    "print(a)"
   ]
  },
  {
   "cell_type": "code",
   "execution_count": 16,
   "metadata": {},
   "outputs": [
    {
     "name": "stdout",
     "output_type": "stream",
     "text": [
      "5\n"
     ]
    }
   ],
   "source": [
    "a = 9\n",
    "a -= 4\n",
    "print(a)"
   ]
  }
 ],
 "metadata": {
  "kernelspec": {
   "display_name": "Python 3",
   "language": "python",
   "name": "python3"
  },
  "language_info": {
   "codemirror_mode": {
    "name": "ipython",
    "version": 3
   },
   "file_extension": ".py",
   "mimetype": "text/x-python",
   "name": "python",
   "nbconvert_exporter": "python",
   "pygments_lexer": "ipython3",
   "version": "3.13.0"
  }
 },
 "nbformat": 4,
 "nbformat_minor": 2
}
