{
 "cells": [
  {
   "cell_type": "code",
   "execution_count": 1,
   "metadata": {},
   "outputs": [
    {
     "name": "stdout",
     "output_type": "stream",
     "text": [
      "Rezultatas: 10.0\n"
     ]
    }
   ],
   "source": [
    "def main():\n",
    "    try:\n",
    "        # Vartotojo įvedimas\n",
    "        A = float(input(\"Įveskite skaičių A: \"))\n",
    "        B = float(input(\"Įveskite skaičių B: \"))\n",
    "        veiksmas = input(\"Įveskite matematinį veiksmą (+, −, /, *): \")\n",
    "\n",
    "        # Atlikti veiksmą\n",
    "        if veiksmas == '+':\n",
    "            rezultatas = A + B\n",
    "        elif veiksmas == '-':\n",
    "            rezultatas = A - B\n",
    "        elif veiksmas == '*':\n",
    "            rezultatas = A * B\n",
    "        elif veiksmas == '/':\n",
    "            if B == 0:\n",
    "                raise ZeroDivisionError(\"Negalima dalinti iš 0.\")\n",
    "            rezultatas = A / B\n",
    "        else:\n",
    "            raise ValueError(\"Neteisingas matematinis veiksmas. Prašome įvesti +, −, / arba *.\")\n",
    "\n",
    "        # Išvesti rezultatą\n",
    "        print(f\"Rezultatas: {rezultatas}\")\n",
    "\n",
    "    except ValueError as ve:\n",
    "        print(f\"Klaida: {ve}\")\n",
    "    except ZeroDivisionError as zde:\n",
    "        print(f\"Klaida: {zde}\")\n",
    "    except Exception as e:\n",
    "        print(f\"Nenumatyta klaida: {e}\")\n",
    "\n",
    "if __name__ == \"__main__\":\n",
    "    main()\n"
   ]
  },
  {
   "cell_type": "code",
   "execution_count": 2,
   "metadata": {},
   "outputs": [
    {
     "ename": "IndentationError",
     "evalue": "unexpected indent (571977624.py, line 3)",
     "output_type": "error",
     "traceback": [
      "\u001b[1;36m  Cell \u001b[1;32mIn[2], line 3\u001b[1;36m\u001b[0m\n\u001b[1;33m    def paskaiciuoti sarasas1(produktu)\u001b[0m\n\u001b[1;37m    ^\u001b[0m\n\u001b[1;31mIndentationError\u001b[0m\u001b[1;31m:\u001b[0m unexpected indent\n"
     ]
    }
   ],
   "source": [
    "saras1 = {\"savikaina\":32.67,\"paradvimo kaina\":45.00, \"kiekis\":1200}\n",
    "saras1 = {\"savikaina\":225.89,\"paradvimo kaina\":550.00, \"kiekis\":1200}\n",
    " def paskaiciuoti sarasas1(produktu)\n",
    "    savikaina = saras2[savikaina]\n",
    "    paradvimo kaina = produktu [prdavimu kaina]\n",
    "    kiekis = "
   ]
  }
 ],
 "metadata": {
  "kernelspec": {
   "display_name": "Python 3",
   "language": "python",
   "name": "python3"
  },
  "language_info": {
   "codemirror_mode": {
    "name": "ipython",
    "version": 3
   },
   "file_extension": ".py",
   "mimetype": "text/x-python",
   "name": "python",
   "nbconvert_exporter": "python",
   "pygments_lexer": "ipython3",
   "version": "3.13.0"
  }
 },
 "nbformat": 4,
 "nbformat_minor": 2
}
