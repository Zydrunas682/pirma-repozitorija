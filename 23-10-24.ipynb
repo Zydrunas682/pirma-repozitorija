{
 "cells": [
  {
   "cell_type": "code",
   "execution_count": 1,
   "metadata": {},
   "outputs": [
    {
     "data": {
      "text/plain": [
       "4"
      ]
     },
     "execution_count": 1,
     "metadata": {},
     "output_type": "execute_result"
    }
   ],
   "source": [
    "2+2"
   ]
  },
  {
   "cell_type": "markdown",
   "metadata": {},
   "source": []
  },
  {
   "cell_type": "code",
   "execution_count": 6,
   "metadata": {},
   "outputs": [
    {
     "ename": "SyntaxError",
     "evalue": "invalid syntax (31031524.py, line 1)",
     "output_type": "error",
     "traceback": [
      "\u001b[1;36m  Cell \u001b[1;32mIn[6], line 1\u001b[1;36m\u001b[0m\n\u001b[1;33m    skaicius 1 = float(input(8))\u001b[0m\n\u001b[1;37m             ^\u001b[0m\n\u001b[1;31mSyntaxError\u001b[0m\u001b[1;31m:\u001b[0m invalid syntax\n"
     ]
    }
   ],
   "source": [
    "skaicius 1 = float(input(8))\n",
    "skaicius 2 =float (input(6))\n",
    "skaicius 3 = float (input(4))\n",
    "skaicius  =[skaicius 1,skaicius 2 , skaicius 3,]\n"
   ]
  },
  {
   "cell_type": "code",
   "execution_count": 16,
   "metadata": {},
   "outputs": [
    {
     "ename": "NameError",
     "evalue": "name 'Ivestis_1' is not defined",
     "output_type": "error",
     "traceback": [
      "\u001b[1;31m---------------------------------------------------------------------------\u001b[0m",
      "\u001b[1;31mNameError\u001b[0m                                 Traceback (most recent call last)",
      "Cell \u001b[1;32mIn[16], line 5\u001b[0m\n\u001b[0;32m      2\u001b[0m Ivestis_2 \u001b[38;5;241m=\u001b[39m \u001b[38;5;28mint\u001b[39m(\u001b[38;5;28minput\u001b[39m(\u001b[38;5;124m\"\u001b[39m\u001b[38;5;124mĮveskite skaičių:\u001b[39m\u001b[38;5;124m\"\u001b[39m))\n\u001b[0;32m      3\u001b[0m Ivestis_3 \u001b[38;5;241m=\u001b[39m \u001b[38;5;28mint\u001b[39m(\u001b[38;5;28minput\u001b[39m(\u001b[38;5;124m\"\u001b[39m\u001b[38;5;124mĮveskite skaičių:\u001b[39m\u001b[38;5;124m\"\u001b[39m))\n\u001b[1;32m----> 5\u001b[0m listas \u001b[38;5;241m=\u001b[39m [\u001b[43mIvestis_1\u001b[49m, Ivestis_2, Ivestis_3]\n\u001b[0;32m      6\u001b[0m listas\u001b[38;5;241m.\u001b[39msort()\n\u001b[0;32m      7\u001b[0m \u001b[38;5;28mprint\u001b[39m(\u001b[38;5;124mf\u001b[39m\u001b[38;5;124m\"\u001b[39m\u001b[38;5;124mVisi skaičiai: \u001b[39m\u001b[38;5;132;01m{\u001b[39;00mlistas\u001b[38;5;132;01m}\u001b[39;00m\u001b[38;5;124m, vidurinis skaičius yra \u001b[39m\u001b[38;5;132;01m{\u001b[39;00mlistas[\u001b[38;5;241m1\u001b[39m]\u001b[38;5;132;01m}\u001b[39;00m\u001b[38;5;124m\"\u001b[39m)\n",
      "\u001b[1;31mNameError\u001b[0m: name 'Ivestis_1' is not defined"
     ]
    }
   ],
   "source": [
    "ivestis_1 = int(input(\"Įveskite skaičių:\"))\n",
    "Ivestis_2 = int(input(\"Įveskite skaičių:\"))\n",
    "Ivestis_3 = int(input(\"Įveskite skaičių:\"))\n",
    "\n",
    "listas = [Ivestis_1, Ivestis_2, Ivestis_3]\n",
    "listas.sort()\n",
    "print(f\"Visi skaičiai: {listas}, vidurinis skaičius yra {listas[1]}\")"
   ]
  },
  {
   "cell_type": "code",
   "execution_count": 15,
   "metadata": {},
   "outputs": [
    {
     "ename": "ValueError",
     "evalue": "could not convert string to float: 'sk1=2,sk2=1,sk3=0'",
     "output_type": "error",
     "traceback": [
      "\u001b[1;31m---------------------------------------------------------------------------\u001b[0m",
      "\u001b[1;31mValueError\u001b[0m                                Traceback (most recent call last)",
      "Cell \u001b[1;32mIn[15], line 2\u001b[0m\n\u001b[0;32m      1\u001b[0m \u001b[38;5;66;03m# Paprašome vartotojo įvesti tris skaičius\u001b[39;00m\n\u001b[1;32m----> 2\u001b[0m sk1 \u001b[38;5;241m=\u001b[39m \u001b[38;5;28;43mfloat\u001b[39;49m\u001b[43m(\u001b[49m\u001b[38;5;28;43minput\u001b[39;49m\u001b[43m(\u001b[49m\u001b[38;5;124;43m\"\u001b[39;49m\u001b[38;5;124;43mĮveskite pirmą skaičių: \u001b[39;49m\u001b[38;5;124;43m\"\u001b[39;49m\u001b[43m)\u001b[49m\u001b[43m)\u001b[49m\n\u001b[0;32m      3\u001b[0m sk2 \u001b[38;5;241m=\u001b[39m \u001b[38;5;28mfloat\u001b[39m(\u001b[38;5;28minput\u001b[39m(\u001b[38;5;124m\"\u001b[39m\u001b[38;5;124mĮveskite antrą skaičių: \u001b[39m\u001b[38;5;124m\"\u001b[39m))\n\u001b[0;32m      4\u001b[0m sk3 \u001b[38;5;241m=\u001b[39m \u001b[38;5;28mfloat\u001b[39m(\u001b[38;5;28minput\u001b[39m(\u001b[38;5;124m\"\u001b[39m\u001b[38;5;124mĮveskite trečią skaičių: \u001b[39m\u001b[38;5;124m\"\u001b[39m))\n",
      "\u001b[1;31mValueError\u001b[0m: could not convert string to float: 'sk1=2,sk2=1,sk3=0'"
     ]
    }
   ],
   "source": [
    "# Paprašome vartotojo įvesti tris skaičius\n",
    "sk1 = float(input(\"Įveskite pirmą skaičių: \"))\n",
    "sk2 = float(input(\"Įveskite antrą skaičių: \"))\n",
    "sk3 = float(input(\"Įveskite trečią skaičių: \"))\n",
    "\n",
    "# Sudedame skaičius į sąrašą\n",
    "skaiciai = [sk1, sk2, sk3]\n",
    "\n",
    "# Rūšiuojame sąrašą\n",
    "skaiciai.sort()\n",
    "\n",
    "# Vidurinis skaičius yra antras po rūšiavimo\n",
    "vidurinis_skaicius = skaiciai[1]\n",
    "\n",
    "# Atspausdiname vidurinį skaičių\n",
    "print(f\"Vidurinis skaičius: {vidurinis_skaicius}\")"
   ]
  },
  {
   "cell_type": "code",
   "execution_count": 13,
   "metadata": {},
   "outputs": [
    {
     "ename": "ValueError",
     "evalue": "invalid literal for int() with base 10: '1,2,1,0,'",
     "output_type": "error",
     "traceback": [
      "\u001b[1;31m---------------------------------------------------------------------------\u001b[0m",
      "\u001b[1;31mValueError\u001b[0m                                Traceback (most recent call last)",
      "Cell \u001b[1;32mIn[13], line 2\u001b[0m\n\u001b[0;32m      1\u001b[0m Įvestis_1 \u001b[38;5;241m=\u001b[39m \u001b[38;5;28mint\u001b[39m(\u001b[38;5;28minput\u001b[39m(\u001b[38;5;124m\"\u001b[39m\u001b[38;5;124mĮveskite skaičių tarp 0 ir 2: \u001b[39m\u001b[38;5;124m\"\u001b[39m))\n\u001b[1;32m----> 2\u001b[0m Įvestis_2 \u001b[38;5;241m=\u001b[39m \u001b[38;5;28;43mint\u001b[39;49m\u001b[43m(\u001b[49m\u001b[38;5;28;43minput\u001b[39;49m\u001b[43m(\u001b[49m\u001b[38;5;124;43m\"\u001b[39;49m\u001b[38;5;124;43mĮveskite skaičių tarp 0 ir 2: \u001b[39;49m\u001b[38;5;124;43m\"\u001b[39;49m\u001b[43m)\u001b[49m\u001b[43m)\u001b[49m\n\u001b[0;32m      3\u001b[0m Įvestis_3 \u001b[38;5;241m=\u001b[39m \u001b[38;5;28mint\u001b[39m(\u001b[38;5;28minput\u001b[39m(\u001b[38;5;124m\"\u001b[39m\u001b[38;5;124mĮveskite skaičių tarp 0 ir 2: \u001b[39m\u001b[38;5;124m\"\u001b[39m))\n\u001b[0;32m      4\u001b[0m Įvestis_4 \u001b[38;5;241m=\u001b[39m \u001b[38;5;28mint\u001b[39m(\u001b[38;5;28minput\u001b[39m(\u001b[38;5;124m\"\u001b[39m\u001b[38;5;124mĮveskite skaičių tarp 0 ir 2: \u001b[39m\u001b[38;5;124m\"\u001b[39m))\n",
      "\u001b[1;31mValueError\u001b[0m: invalid literal for int() with base 10: '1,2,1,0,'"
     ]
    }
   ],
   "source": [
    "Įvestis_1 = int(input(\"Įveskite skaičių tarp 0 ir 2: \"))\n",
    "Įvestis_2 = int(input(\"Įveskite skaičių tarp 0 ir 2: \"))\n",
    "Įvestis_3 = int(input(\"Įveskite skaičių tarp 0 ir 2: \"))\n",
    "Įvestis_4 = int(input(\"Įveskite skaičių tarp 0 ir 2: \"))\n",
    "Įvessties_listas = []\n",
    "Įvessties_listas.append(Įvestis_1)\n",
    "Įvessties_listas.append(Įvestis_2)\n",
    "Įvessties_listas.append(Įvestis_3)\n",
    "Įvessties_listas.append(Įvestis_4)\n",
    "\n",
    "\n",
    "count_0 = Įvessties_listas.count(0)\n",
    "count_1 = Įvessties_listas.count(1)\n",
    "count_2 = Įvessties_listas.count(2)\n",
    "\n",
    "\n",
    "print(f\"Nulių yra: {count_0}\")\n",
    "print(f\"Vienetų yra: {count_1}\")\n",
    "print(f\"Dvejetų yra {count_2}\")"
   ]
  },
  {
   "cell_type": "code",
   "execution_count": null,
   "metadata": {},
   "outputs": [],
   "source": []
  },
  {
   "cell_type": "code",
   "execution_count": null,
   "metadata": {},
   "outputs": [],
   "source": [
    "kiekis = int(input('veskite perkama kieki'))\n",
    "if kiekis >1000:\n",
    "nuolaida = 0.03"
   ]
  },
  {
   "cell_type": "code",
   "execution_count": 19,
   "metadata": {},
   "outputs": [
    {
     "name": "stdout",
     "output_type": "stream",
     "text": [
      "Vilnius\n",
      "Rokiškis\n",
      "Mažeikiai\n"
     ]
    }
   ],
   "source": [
    "\n",
    " = ['Vilnius', 'Kaunas', 'Alytus', 'Rokiškis',\n",
    "'Ūla', 'Mažeikiai', 'Akmena']\n",
    "# Spausdinkite tik tuos miestus, kurių pavadinimai ilgesni nei 6\n",
    "# simboliai.\n",
    "for miestas in miestai:\n",
    "    if len(miestas) > 6:\n",
    "        print(miestas)\n",
    "miestai\n"
   ]
  },
  {
   "cell_type": "code",
   "execution_count": 72,
   "metadata": {},
   "outputs": [
    {
     "ename": "SyntaxError",
     "evalue": "unmatched ')' (904953775.py, line 10)",
     "output_type": "error",
     "traceback": [
      "\u001b[1;36m  Cell \u001b[1;32mIn[72], line 10\u001b[1;36m\u001b[0m\n\u001b[1;33m    print(' ' * (height) - i - 1) + symbol * (1 * i + 1)):\u001b[0m\n\u001b[1;37m                                                        ^\u001b[0m\n\u001b[1;31mSyntaxError\u001b[0m\u001b[1;31m:\u001b[0m unmatched ')'\n"
     ]
    }
   ],
   "source": [
    "# Paprašome vartotojo įvesti eglutės ilgį\n",
    "height = int(input('Įveskite eglutės ilgį (eilučių kiekį): '))\n",
    "\n",
    "# Paprašome vartotojo įvesti simbolį\n",
    "symbol = input('Įveskite simbolį eglutei: ')\n",
    "\n",
    "# Spausdiname eglutę\n",
    "for i in range(height):\n",
    "    # Spausdiname tarpus\n",
    "    print(' ' * (height) - i - 1) + symbol * (1 * i + 1)):"
   ]
  },
  {
   "cell_type": "code",
   "execution_count": 28,
   "metadata": {},
   "outputs": [
    {
     "name": "stdout",
     "output_type": "stream",
     "text": [
      "Pozicija: 0, Simbolis: \"A\"\n",
      "Pozicija: 1, Simbolis: \"š\"\n",
      "Pozicija: 2, Simbolis: \" \"\n",
      "Pozicija: 3, Simbolis: \"r\"\n",
      "Pozicija: 4, Simbolis: \"y\"\n",
      "Pozicija: 5, Simbolis: \"t\"\n",
      "Pozicija: 6, Simbolis: \"a\"\n",
      "Pozicija: 7, Simbolis: \"i\"\n",
      "Pozicija: 8, Simbolis: \"s\"\n",
      "Pozicija: 9, Simbolis: \" \"\n",
      "Pozicija: 10, Simbolis: \"m\"\n",
      "Pozicija: 11, Simbolis: \"ė\"\n",
      "Pozicija: 12, Simbolis: \"g\"\n",
      "Pozicija: 13, Simbolis: \"s\"\n",
      "Pozicija: 14, Simbolis: \"t\"\n",
      "Pozicija: 15, Simbolis: \"u\"\n",
      "Pozicija: 16, Simbolis: \" \"\n",
      "Pozicija: 17, Simbolis: \"k\"\n",
      "Pozicija: 18, Simbolis: \"a\"\n",
      "Pozicija: 19, Simbolis: \"v\"\n",
      "Pozicija: 20, Simbolis: \"ą\"\n",
      "Pozicija: 21, Simbolis: \" \"\n",
      "Pozicija: 22, Simbolis: \"s\"\n",
      "Pozicija: 23, Simbolis: \"u\"\n",
      "Pozicija: 24, Simbolis: \" \"\n",
      "Pozicija: 25, Simbolis: \"s\"\n",
      "Pozicija: 26, Simbolis: \"u\"\n",
      "Pozicija: 27, Simbolis: \"m\"\n",
      "Pozicija: 28, Simbolis: \"u\"\n",
      "Pozicija: 29, Simbolis: \"š\"\n",
      "Pozicija: 30, Simbolis: \"t\"\n",
      "Pozicija: 31, Simbolis: \"i\"\n",
      "Pozicija: 32, Simbolis: \"n\"\n",
      "Pozicija: 33, Simbolis: \"i\"\n",
      "Pozicija: 34, Simbolis: \"a\"\n",
      "Pozicija: 35, Simbolis: \"i\"\n",
      "Pozicija: 36, Simbolis: \"s\"\n",
      "Pozicija: 37, Simbolis: \" \"\n",
      "Pozicija: 38, Simbolis: \"i\"\n",
      "Pozicija: 39, Simbolis: \"r\"\n",
      "Pozicija: 40, Simbolis: \" \"\n",
      "Pozicija: 41, Simbolis: \"a\"\n",
      "Pozicija: 42, Simbolis: \"r\"\n",
      "Pozicija: 43, Simbolis: \"b\"\n",
      "Pozicija: 44, Simbolis: \"a\"\n",
      "Pozicija: 45, Simbolis: \"t\"\n",
      "Pozicija: 46, Simbolis: \"ą\"\n"
     ]
    }
   ],
   "source": [
    "# Duotas tekstas\n",
    "t = \"Aš rytais mėgstu kavą su sumuštiniais ir arbatą\"\n",
    "\n",
    "# Išvedame simbolius ir jų pozicijas\n",
    "for index, simbolis in enumerate(t):\n",
    "    print(f'Pozicija: {index}, Simbolis: \"{simbolis}\"')"
   ]
  },
  {
   "cell_type": "code",
   "execution_count": 29,
   "metadata": {},
   "outputs": [
    {
     "name": "stdout",
     "output_type": "stream",
     "text": [
      "Pozicija: 0, Simbolis: \"M\"\n",
      "Pozicija: 1, Simbolis: \"e\"\n",
      "Pozicija: 2, Simbolis: \"g\"\n",
      "Pozicija: 3, Simbolis: \"s\"\n",
      "Pozicija: 4, Simbolis: \"t\"\n",
      "Pozicija: 5, Simbolis: \"u\"\n",
      "Pozicija: 6, Simbolis: \" \"\n",
      "Pozicija: 7, Simbolis: \"a\"\n",
      "Pozicija: 8, Simbolis: \"r\"\n",
      "Pozicija: 9, Simbolis: \"b\"\n",
      "Pozicija: 10, Simbolis: \"a\"\n",
      "Pozicija: 11, Simbolis: \"t\"\n",
      "Pozicija: 12, Simbolis: \"a\"\n",
      "Pozicija: 13, Simbolis: \" \"\n",
      "Pozicija: 14, Simbolis: \"s\"\n",
      "Pozicija: 15, Simbolis: \"u\"\n",
      "Pozicija: 16, Simbolis: \" \"\n",
      "Pozicija: 17, Simbolis: \"b\"\n",
      "Pozicija: 18, Simbolis: \"a\"\n",
      "Pozicija: 19, Simbolis: \"n\"\n",
      "Pozicija: 20, Simbolis: \"d\"\n",
      "Pozicija: 21, Simbolis: \"u\"\n",
      "Pozicija: 22, Simbolis: \"k\"\n",
      "Pozicija: 23, Simbolis: \"e\"\n",
      "Pozicija: 24, Simbolis: \"m\"\n",
      "Pozicija: 25, Simbolis: \"i\"\n",
      "Pozicija: 26, Simbolis: \"s\"\n"
     ]
    }
   ],
   "source": [
    "# Duotas tekstas\n",
    "t = \"Megstu arbata su bandukemis\"\n",
    "\n",
    "# Išvedame simbolius ir jų pozicijas\n",
    "for index, simbolis in enumerate(t):\n",
    "    print(f'Pozicija: {index}, Simbolis: \"{simbolis}\"')"
   ]
  },
  {
   "cell_type": "code",
   "execution_count": 47,
   "metadata": {},
   "outputs": [
    {
     "name": "stdout",
     "output_type": "stream",
     "text": [
      "Aš sUmUšTiNiAiS RyTaIs mĖgStU KaVą sU  iR ArBaTą\n"
     ]
    }
   ],
   "source": [
    "t = \"Aš sumuštiniais rytais mėgstu kavą su  ir arbatą\"\n",
    "# Eilutės spausdinimas pagal nurodytas sąlygas\n",
    "for index, char in enumerate(t):\n",
    "    if index % 2 == 0:  # Lyginė pozicija\n",
    "        print(char.upper(), end='')  # Spausdiname viršutiniu registru\n",
    "    else:  # Nelyginė pozicija\n",
    "        print(char.lower(), end='')  # Spausdiname žemutiniu registru\n",
    "\n",
    "print()  # Pridėti naują eilutę po spausdinimo"
   ]
  },
  {
   "cell_type": "code",
   "execution_count": 49,
   "metadata": {},
   "outputs": [
    {
     "name": "stdout",
     "output_type": "stream",
     "text": [
      "Aš rytais mėgstu kavą su sumuštiniais ir arbatą\n",
      "Aš rytais mėgstu kavą su sumuštiniais ir arbatą\n",
      "Aš rytais mėgstu kavą su sumuštiniais ir arbatą\n",
      "Aš rytais mėgstu kavą su sumuštiniais ir arbatą\n",
      "Aš rytais mėgstu kavą su sumuštiniais ir arbatą\n",
      "Aš rytais mėgstu kavą su sumuštiniais ir arbatą\n",
      "Aš rytais mėgstu kavą su sumuštiniais ir arbatą\n",
      "Aš rytais mėgstu kavą su sumuštiniais ir arbatą\n"
     ]
    }
   ],
   "source": [
    "# Tekstas, iš kurio bus imami žodžiai\n",
    "text = \"Aš rytais mėgstu kavą su sumuštiniais ir arbatą\"\n",
    "\n",
    "# Padalijame eilutę į žodžius\n",
    "words = text.split()\n",
    "\n",
    "# Išvedame kiekvieną žodį atskirai\n",
    "for word in words:\n",
    "    print(text)"
   ]
  },
  {
   "cell_type": "code",
   "execution_count": 31,
   "metadata": {},
   "outputs": [
    {
     "name": "stdout",
     "output_type": "stream",
     "text": [
      "Aš\n",
      "rytais\n",
      "mėgstu\n",
      "kavą\n",
      "su\n",
      "sumuštiniais\n",
      "ir\n",
      "arbatą\n"
     ]
    }
   ],
   "source": [
    "t = \"Aš rytais mėgstu kavą su sumuštiniais ir arbatą\"\n",
    "\n",
    "# Padalijame eilutę į žodžius\n",
    "words = t.split()\n",
    "\n",
    "# Išvedame kiekvieną žodį atskirai\n",
    "for word in words:\n",
    "    print(word)"
   ]
  },
  {
   "cell_type": "code",
   "execution_count": 34,
   "metadata": {},
   "outputs": [
    {
     "name": "stdout",
     "output_type": "stream",
     "text": [
      "222\n",
      "222\n",
      "222\n"
     ]
    }
   ],
   "source": [
    "# Paprašome vartotojo įvesti simbolį\n",
    "symbol = input('Įveskite simbolį: ')\n",
    "\n",
    "# Paprašome vartotojo įvesti skaičių\n",
    "size = int(input('Įveskite kraštinę (skaičių): '))\n",
    "\n",
    "# Išvedame kvadratą\n",
    "for i in range(size):\n",
    "    print(symbol * size)"
   ]
  },
  {
   "cell_type": "code",
   "execution_count": 73,
   "metadata": {},
   "outputs": [
    {
     "name": "stdout",
     "output_type": "stream",
     "text": [
      "..22222\n",
      ".222222\n",
      "2222222\n"
     ]
    }
   ],
   "source": [
    "# Paprašome vartotojo įvesti eglutės ilgį\n",
    "height = int(input('Įveskite eglutės ilgį (eilučių kiekį): '))\n",
    "\n",
    "# Paprašome vartotojo įvesti simbolįzz\n",
    "symbol = input('Įveskite simbolį eglutei: ')\n",
    "\n",
    "# Spausdiname eglutę\n",
    "for i in range(height):\n",
    "    # Spausdiname tarpus\n",
    "    print('.' * (height - i - 1) + symbol * (1 * i + 5))"
   ]
  },
  {
   "cell_type": "code",
   "execution_count": 62,
   "metadata": {},
   "outputs": [
    {
     "name": "stdout",
     "output_type": "stream",
     "text": [
      "Vilnius\n",
      "Rokiškis\n",
      "Mažeikiai\n"
     ]
    }
   ],
   "source": [
    "\n",
    " text= ['Vilnius', 'Kaunas', 'Alytus', 'Rokiškis',\n",
    "'Ūla', 'Mažeikiai', 'Akmena']\n",
    "# Spausdinkite tik tuos miestus, kurių pavadinimai ilgesni nei 6\n",
    "# simboliai.\n",
    "for miestas in miestai:\n",
    "    if len(miestas) > 6:\n",
    "        print(miestas)\n",
    "\n"
   ]
  },
  {
   "cell_type": "code",
   "execution_count": 76,
   "metadata": {},
   "outputs": [
    {
     "name": "stdout",
     "output_type": "stream",
     "text": [
      "        f\n",
      "       fff\n",
      "      fffff\n",
      "     fffffff\n",
      "    fffffffff\n",
      "   fffffffffff\n",
      "  fffffffffffff\n",
      " fffffffffffffff\n",
      "fffffffffffffffff\n"
     ]
    }
   ],
   "source": [
    "# Paprašome vartotojo įvesti eglutės ilgį\n",
    "height = int(input('Įveskite eglutės ilgį (eilučių kiekį): '))\n",
    "\n",
    "# Paprašome vartotojo įvesti simbolį\n",
    "symbol = input('Įveskite simbolį eglutei: ')\n",
    "\n",
    "# Išvedame eglutę\n",
    "for i in range(height):\n",
    "    # Spausdiname tarpus ir simbolius\n",
    "    print(' ' * (height - i - 1) + symbol * (2 * i + 1))"
   ]
  },
  {
   "cell_type": "code",
   "execution_count": 3,
   "metadata": {},
   "outputs": [
    {
     "name": "stdout",
     "output_type": "stream",
     "text": [
      "Pozicija:0, Simbolis: \"M\"\n",
      "Pozicija:1, Simbolis: \"e\"\n",
      "Pozicija:2, Simbolis: \"g\"\n",
      "Pozicija:3, Simbolis: \"s\"\n",
      "Pozicija:4, Simbolis: \"t\"\n",
      "Pozicija:5, Simbolis: \"u\"\n",
      "Pozicija:6, Simbolis: \" \"\n",
      "Pozicija:7, Simbolis: \"a\"\n",
      "Pozicija:8, Simbolis: \"r\"\n",
      "Pozicija:9, Simbolis: \"b\"\n",
      "Pozicija:10, Simbolis: \"a\"\n",
      "Pozicija:11, Simbolis: \"t\"\n",
      "Pozicija:12, Simbolis: \"a\"\n",
      "Pozicija:13, Simbolis: \" \"\n",
      "Pozicija:14, Simbolis: \"s\"\n",
      "Pozicija:15, Simbolis: \"u\"\n",
      "Pozicija:16, Simbolis: \" \"\n",
      "Pozicija:17, Simbolis: \"b\"\n",
      "Pozicija:18, Simbolis: \"a\"\n",
      "Pozicija:19, Simbolis: \"n\"\n",
      "Pozicija:20, Simbolis: \"d\"\n",
      "Pozicija:21, Simbolis: \"u\"\n",
      "Pozicija:22, Simbolis: \"k\"\n",
      "Pozicija:23, Simbolis: \"e\"\n",
      "Pozicija:24, Simbolis: \"m\"\n",
      "Pozicija:25, Simbolis: \"i\"\n",
      "Pozicija:26, Simbolis: \"s\"\n"
     ]
    }
   ],
   "source": [
    "# Duotas tekstas\n",
    "t = \"Megstu arbata su bandukemis\"\n",
    "\n",
    "# Išvedame simbolius ir jų pozicijas\n",
    "for index, simbolis in enumerate(t):\n",
    "    print(f'Pozicija:{index}, Simbolis: \"{simbolis}\"')"
   ]
  },
  {
   "cell_type": "code",
   "execution_count": null,
   "metadata": {},
   "outputs": [],
   "source": [
    "i = 0\n",
    "sarasas = []\n",
    "\n",
    "while i < 10:\n",
    "    # Iteracija\n",
    "    print(f\"Kintamasis i yra: {i}\")\n",
    "    sarasas.append(\"Stringas\")\n",
    "    i += 1\n",
    "\n",
    "# Papildytas sąrašas:\n",
    "print(sarasas)"
   ]
  },
  {
   "cell_type": "code",
   "execution_count": 1,
   "metadata": {},
   "outputs": [
    {
     "ename": "NameError",
     "evalue": "name 'sąlyga' is not defined",
     "output_type": "error",
     "traceback": [
      "\u001b[1;31m---------------------------------------------------------------------------\u001b[0m",
      "\u001b[1;31mNameError\u001b[0m                                 Traceback (most recent call last)",
      "Cell \u001b[1;32mIn[1], line 1\u001b[0m\n\u001b[1;32m----> 1\u001b[0m rezultatas \u001b[38;5;241m=\u001b[39m true_value \u001b[38;5;28;01mif\u001b[39;00m \u001b[43msąlyga\u001b[49m \u001b[38;5;28;01melse\u001b[39;00m false_value\n",
      "\u001b[1;31mNameError\u001b[0m: name 'sąlyga' is not defined"
     ]
    }
   ],
   "source": [
    "rezultatas = true_value if sąlyga else false_value"
   ]
  }
 ],
 "metadata": {
  "kernelspec": {
   "display_name": "Python 3",
   "language": "python",
   "name": "python3"
  },
  "language_info": {
   "codemirror_mode": {
    "name": "ipython",
    "version": 3
   },
   "file_extension": ".py",
   "mimetype": "text/x-python",
   "name": "python",
   "nbconvert_exporter": "python",
   "pygments_lexer": "ipython3",
   "version": "3.13.0"
  }
 },
 "nbformat": 4,
 "nbformat_minor": 2
}
