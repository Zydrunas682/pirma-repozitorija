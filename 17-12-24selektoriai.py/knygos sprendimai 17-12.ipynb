{
 "cells": [
  {
   "cell_type": "code",
   "execution_count": 4,
   "metadata": {},
   "outputs": [
    {
     "name": "stdout",
     "output_type": "stream",
     "text": [
      "absoliuti -344 nesamone 344\n"
     ]
    }
   ],
   "source": [
    "n = int(input(\"skaicius?\"))\n",
    "if n < 0:\n",
    "    print(\"absoliuti\", n, \"nesamone\", -n)\n",
    "else:\n",
    "    print(\"absoliuti\", n, \"nesamone\", n)"
   ]
  },
  {
   "cell_type": "code",
   "execution_count": 5,
   "metadata": {},
   "outputs": [
    {
     "name": "stdout",
     "output_type": "stream",
     "text": [
      "1 < 3\n",
      "2 < 3\n",
      "3 < 3\n",
      "Nei vienas is testu nera teisingas\n",
      "Nei vienas is testu nera teisingas\n",
      "6 > 5\n",
      "7 > 5\n",
      "8 > 5\n",
      "9 > 5\n",
      "10 > 5\n"
     ]
    }
   ],
   "source": [
    "a = 0\n",
    "while a < 10:\n",
    "    a = a + 1\n",
    "    if a > 5:\n",
    "        print(a,\">\", 5)\n",
    "    elif a <= 3:\n",
    "        print (a, \"<\",3)\n",
    "    else:\n",
    "        print(\"Nei vienas is testu nera teisingas\")"
   ]
  },
  {
   "cell_type": "code",
   "execution_count": 11,
   "metadata": {},
   "outputs": [
    {
     "name": "stdout",
     "output_type": "stream",
     "text": [
      "Atspek skaiciu!\n",
      "Skaicius yra ne toks didelis\n",
      "Skaicius yra ne toks didelis\n",
      "Skaicius yra didesnis\n",
      "Skaicius yra didesnis\n",
      "Valio! Atspejome skaiciu\n"
     ]
    }
   ],
   "source": [
    "SKAICIUS = 9\n",
    "spejimas = -1\n",
    "\n",
    "print(\"Atspek skaiciu!\")\n",
    "while spejimas != SKAICIUS:\n",
    "    spejimas = int(input(\"Ar tai yra...\"))\n",
    "\n",
    "    if spejimas == SKAICIUS:\n",
    "        print(\"Valio! Atspejome skaiciu\")\n",
    "    elif spejimas < SKAICIUS:\n",
    "        print(\"Skaicius yra didesnis\")\n",
    "    elif spejimas > SKAICIUS:\n",
    "        print(\"Skaicius yra ne toks didelis\")"
   ]
  },
  {
   "cell_type": "code",
   "execution_count": null,
   "metadata": {},
   "outputs": [
    {
     "name": "stdout",
     "output_type": "stream",
     "text": [
      "Atspek skaiciu\n",
      "Skaicius nera toks didelis\n",
      "Valio ,atspejote skaiciu\n"
     ]
    }
   ],
   "source": [
    "# Spėlionių žaidimas daugiau mažiau\n",
    "\n",
    "# Iš tiesų, čia turėtų būti naudojami pusiau atsitiktiniai skaičiai,\n",
    "# pavyzdžiui paskutinis laiko skaitmuo, ar kažkas panašaus. Bet tai\n",
    "# palauks iki vėlesnės dalies. (Papildoma užduotis: po Modulių dalies, pakeisk šį kodą,\n",
    "# kad būtų naudojami atsitiktiniai skaičiai)\n",
    "\n",
    "SKAICIUS = 4\n",
    "spejimas = -1\n",
    "\n",
    "print(\"Atspek skaiciu\")\n",
    "\n",
    "\n",
    "while spejimas != SKAICIUS :\n",
    "    spejimas = int(input(\"Ar tai yra...\"))\n",
    "\n",
    "    if spejimas == SKAICIUS:\n",
    "        print(\"Valio ,atspejote skaiciu\")\n",
    "    elif spejimas < SKAICIUS:\n",
    "        print(\"Skaicius yra didesnis\")\n",
    "    elif spejimas > SKAICIUS:\n",
    "        print(\"Skaicius nera toks didelis\")\n",
    "\n"
   ]
  },
  {
   "cell_type": "code",
   "execution_count": 32,
   "metadata": {},
   "outputs": [
    {
     "name": "stdout",
     "output_type": "stream",
     "text": [
      "4 yra lyginis.\n"
     ]
    }
   ],
   "source": [
    "# prasome ivesti skaiciu.\n",
    "# Isveda ar skaicius yra lyginis, ar ne\n",
    "skaicius = float(input(\"parasyk skaiciu\"))\n",
    "if skaicius %2 == 0:\n",
    "    print(int(skaicius), \"yra lyginis.\")\n",
    "elif skaicius %2 == 1:\n",
    "    print(int(skaicius), \"yra nelyginis\")\n",
    "else:\n",
    "    print(skaicius(\"yra labai keistas\"))"
   ]
  },
  {
   "cell_type": "code",
   "execution_count": 43,
   "metadata": {},
   "outputs": [
    {
     "name": "stdout",
     "output_type": "stream",
     "text": [
      "Iveskite 0, kad sustabdyti cikla\n",
      "skaiciu vidurkis yr 6.0\n"
     ]
    }
   ],
   "source": [
    "# prasome ivesti skaiciu iki tol,kol ivedamas 0\n",
    "# Isveda visu isvestiniu skaiciu vidurki\n",
    "kiekis = 0\n",
    "suma = 0.0\n",
    "skaicius = 1  #nurodomas tam,kad nebutu iskarto iseinama is ciklo\n",
    "print (\"Iveskite 0, kad sustabdyti cikla\")\n",
    "while skaicius != 0:\n",
    "    skaicius = float(input(\"iveskite skaiciu :\"))\n",
    "\n",
    "    if skaicius != 0:\n",
    "        kiekis = kiekis + 1\n",
    "        suma = suma +skaicius\n",
    "    if skaicius == 0:\n",
    "        print(\"skaiciu vidurkis yr\", suma / kiekis)\n",
    "\n"
   ]
  },
  {
   "cell_type": "code",
   "execution_count": 3,
   "metadata": {},
   "outputs": [
    {
     "name": "stdout",
     "output_type": "stream",
     "text": [
      "...kokia nesamone\n"
     ]
    }
   ],
   "source": [
    "vardas = input(\"iveskite savo vardas:\")\n",
    "if vardas == \"zydrunas\":\n",
    "    print(\"nuostabus  vardas\")\n",
    "elif vardas == \"jurgis\":\n",
    "    print(\"...kokia nesamone\")\n",
    "elif vardas == \"apsermekelis\":\n",
    "    print(\"...briedas\")\n",
    "else:\n",
    "    print(\"tavo vardas labai grazus.\")\n",
    "\n"
   ]
  },
  {
   "cell_type": "code",
   "execution_count": 6,
   "metadata": {},
   "outputs": [
    {
     "name": "stdout",
     "output_type": "stream",
     "text": [
      "labai grazus vardas\n"
     ]
    }
   ],
   "source": [
    "vardas = input(\"ivesk savo varda:\")\n",
    "if vardas == \"Zydrunas\":\n",
    "    print(\"labai grazus vardas\")\n",
    "elif vardas == \"sigis\":\n",
    "    print(\"nesamone\")\n",
    "elif vardas == \"jurgis\":\n",
    "    print(\"briedas\")\n",
    "else:\n",
    "    print(\"nuostabu\")\n"
   ]
  },
  {
   "cell_type": "code",
   "execution_count": 8,
   "metadata": {},
   "outputs": [
    {
     "name": "stdout",
     "output_type": "stream",
     "text": [
      "atspek skaiciu\n",
      "permazai\n",
      "permazai\n",
      "pereboras\n",
      "pereboras\n",
      "valio! \n",
      "tai buvo sudetinga\n"
     ]
    }
   ],
   "source": [
    "skaicius = 65\n",
    "spejimas = -1\n",
    "kiekis = 0\n",
    "\n",
    "print(\"atspek skaiciu\")\n",
    "while spejimas != skaicius:\n",
    "    spejimas = int(input(\"ar tai yra...\"))\n",
    "    kiekis = kiekis +1\n",
    "    if spejimas == skaicius:\n",
    "        print(\"valio! \")\n",
    "    elif spejimas < skaicius:\n",
    "        print(\"permazai\")\n",
    "    elif spejimas > skaicius:\n",
    "        print(\"pereboras\")\n",
    "\n",
    "if kiekis > 3:\n",
    "    print(\"tai buvo sudetinga\")\n",
    "else:\n",
    "    prin(\"gerai pavariai\")\n"
   ]
  },
  {
   "cell_type": "code",
   "execution_count": 13,
   "metadata": {},
   "outputs": [
    {
     "name": "stdout",
     "output_type": "stream",
     "text": [
      "skaiciu suma yra didelis skaicius\n"
     ]
    }
   ],
   "source": [
    "# Parasyti programa,kuri prasytu ivesti du skaicius. \n",
    "# jei skaicius yra didesnis  nei 100,isvesk..tai didelis skaicius.\n",
    "skaicius1 = float(input(\"pirmas skaicius\"))\n",
    "skaicius2 = float(input(\"antras skaicius\"))\n",
    "if skaicius1 + skaicius2 > 100:\n",
    "    print(\"skaiciu suma yra didelis skaicius\")\n",
    "if skaicius1 + skaicius2 < 100:\n",
    "        print(\"super pataikiai\")\n",
    "\n"
   ]
  },
  {
   "cell_type": "code",
   "execution_count": 17,
   "metadata": {},
   "outputs": [],
   "source": [
    "aukstis: 3\n",
    "plotis:4\n",
    "perimetras:15\n",
    "\n"
   ]
  },
  {
   "cell_type": "code",
   "execution_count": 18,
   "metadata": {},
   "outputs": [],
   "source": [
    "aukstis: 4\n",
    "plotis:4\n",
    "perimetras:16"
   ]
  },
  {
   "cell_type": "code",
   "execution_count": 31,
   "metadata": {},
   "outputs": [
    {
     "name": "stdout",
     "output_type": "stream",
     "text": [
      "eina peklon\n"
     ]
    }
   ],
   "source": [
    "skaicius = 5\n",
    "while skaicius > 5:\n",
    "    print(\".\", end =  \" \")\n",
    "    skaicius = skaicius - 1\n",
    "print(\"eina peklon\")"
   ]
  },
  {
   "cell_type": "code",
   "execution_count": null,
   "metadata": {},
   "outputs": [],
   "source": []
  }
 ],
 "metadata": {
  "kernelspec": {
   "display_name": "Python 3",
   "language": "python",
   "name": "python3"
  },
  "language_info": {
   "codemirror_mode": {
    "name": "ipython",
    "version": 3
   },
   "file_extension": ".py",
   "mimetype": "text/x-python",
   "name": "python",
   "nbconvert_exporter": "python",
   "pygments_lexer": "ipython3",
   "version": "3.13.0"
  }
 },
 "nbformat": 4,
 "nbformat_minor": 2
}
