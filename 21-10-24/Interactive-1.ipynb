{
 "cells": [
  {
   "cell_type": "markdown",
   "metadata": {},
   "source": [
    "Connected to Python 3.13.0"
   ]
  },
  {
   "cell_type": "code",
   "execution_count": null,
   "metadata": {},
   "outputs": [],
   "source": []
  },
  {
   "cell_type": "code",
   "execution_count": null,
   "metadata": {},
   "outputs": [],
   "source": []
  },
  {
   "cell_type": "code",
   "execution_count": null,
   "metadata": {},
   "outputs": [
    {
     "data": {
      "text/plain": [
       "30"
      ]
     },
     "execution_count": 1,
     "metadata": {},
     "output_type": "execute_result"
    }
   ],
   "source": [
    "10 + 20"
   ]
  },
  {
   "cell_type": "code",
   "execution_count": null,
   "metadata": {},
   "outputs": [],
   "source": [
    "a = 15"
   ]
  },
  {
   "cell_type": "code",
   "execution_count": 27,
   "metadata": {},
   "outputs": [
    {
     "name": "stdout",
     "output_type": "stream",
     "text": [
      "jus galite balsuoti\n"
     ]
    }
   ],
   "source": [
    "amzius = int(input('iveskite savo amziu'))\n",
    "if amzius >= 18 :\n",
    "    print('jus galite balsuoti')\n",
    "else :\n",
    "    print('jus negalite balsuoti')\n",
    "manzius = 16\n",
    "\n"
   ]
  },
  {
   "cell_type": "code",
   "execution_count": 37,
   "metadata": {},
   "outputs": [],
   "source": [
    "skaicius = 2"
   ]
  },
  {
   "cell_type": "code",
   "execution_count": 40,
   "metadata": {},
   "outputs": [
    {
     "name": "stdout",
     "output_type": "stream",
     "text": [
      "jus laimejote\n"
     ]
    }
   ],
   "source": [
    "skaicius = 1\n",
    "if skaicius == 1 or skaicius == 2 or skaicius == 3 :\n",
    "    print ('jus laimejote')"
   ]
  },
  {
   "cell_type": "code",
   "execution_count": null,
   "metadata": {},
   "outputs": [
    {
     "name": "stdout",
     "output_type": "stream",
     "text": [
      "16\n"
     ]
    }
   ],
   "source": [
    "print(4*4)"
   ]
  },
  {
   "cell_type": "code",
   "execution_count": null,
   "metadata": {},
   "outputs": [
    {
     "name": "stdout",
     "output_type": "stream",
     "text": [
      "16\n"
     ]
    }
   ],
   "source": [
    "print (4*4)"
   ]
  },
  {
   "cell_type": "code",
   "execution_count": null,
   "metadata": {},
   "outputs": [
    {
     "name": "stdout",
     "output_type": "stream",
     "text": [
      "8\n"
     ]
    }
   ],
   "source": [
    "print(1+7)"
   ]
  },
  {
   "cell_type": "code",
   "execution_count": 21,
   "metadata": {},
   "outputs": [],
   "source": [
    "# print(2**8)"
   ]
  },
  {
   "cell_type": "code",
   "execution_count": null,
   "metadata": {},
   "outputs": [
    {
     "data": {
      "text/plain": [
       "6"
      ]
     },
     "execution_count": 13,
     "metadata": {},
     "output_type": "execute_result"
    }
   ],
   "source": [
    "3+3"
   ]
  },
  {
   "cell_type": "code",
   "execution_count": null,
   "metadata": {},
   "outputs": [
    {
     "data": {
      "text/plain": [
       "9"
      ]
     },
     "execution_count": 14,
     "metadata": {},
     "output_type": "execute_result"
    }
   ],
   "source": [
    "3+6"
   ]
  },
  {
   "cell_type": "code",
   "execution_count": null,
   "metadata": {},
   "outputs": [
    {
     "data": {
      "text/plain": [
       "33330"
      ]
     },
     "execution_count": 15,
     "metadata": {},
     "output_type": "execute_result"
    }
   ],
   "source": [
    "2345+30985"
   ]
  },
  {
   "cell_type": "code",
   "execution_count": null,
   "metadata": {},
   "outputs": [
    {
     "data": {
      "text/plain": [
       "6"
      ]
     },
     "execution_count": 16,
     "metadata": {},
     "output_type": "execute_result"
    }
   ],
   "source": [
    "3+3"
   ]
  },
  {
   "cell_type": "code",
   "execution_count": null,
   "metadata": {},
   "outputs": [],
   "source": [
    "x=3.0"
   ]
  },
  {
   "cell_type": "code",
   "execution_count": null,
   "metadata": {},
   "outputs": [
    {
     "name": "stdout",
     "output_type": "stream",
     "text": [
      "4\n"
     ]
    }
   ],
   "source": [
    "print(2*2)"
   ]
  },
  {
   "cell_type": "code",
   "execution_count": null,
   "metadata": {},
   "outputs": [
    {
     "name": "stdout",
     "output_type": "stream",
     "text": [
      "8\n"
     ]
    }
   ],
   "source": [
    "print(1+7)"
   ]
  },
  {
   "cell_type": "code",
   "execution_count": null,
   "metadata": {},
   "outputs": [
    {
     "name": "stdout",
     "output_type": "stream",
     "text": [
      "256\n"
     ]
    }
   ],
   "source": [
    "print(2**8)"
   ]
  },
  {
   "cell_type": "code",
   "execution_count": null,
   "metadata": {},
   "outputs": [
    {
     "name": "stdout",
     "output_type": "stream",
     "text": [
      "1.681792830507429\n"
     ]
    }
   ],
   "source": [
    "print(64**(1/8))"
   ]
  },
  {
   "cell_type": "code",
   "execution_count": null,
   "metadata": {},
   "outputs": [
    {
     "name": "stdout",
     "output_type": "stream",
     "text": [
      "6\n"
     ]
    }
   ],
   "source": [
    "print(3+3)"
   ]
  },
  {
   "cell_type": "code",
   "execution_count": null,
   "metadata": {},
   "outputs": [],
   "source": [
    "txt='Vilniaus miestas'"
   ]
  },
  {
   "cell_type": "code",
   "execution_count": null,
   "metadata": {},
   "outputs": [
    {
     "name": "stdout",
     "output_type": "stream",
     "text": [
      "256\n"
     ]
    }
   ],
   "source": [
    "print(2**8)"
   ]
  },
  {
   "cell_type": "code",
   "execution_count": null,
   "metadata": {},
   "outputs": [],
   "source": [
    "txt = \"Labas rytas\""
   ]
  },
  {
   "cell_type": "code",
   "execution_count": null,
   "metadata": {},
   "outputs": [
    {
     "name": "stdout",
     "output_type": "stream",
     "text": [
      "abas rytas\n"
     ]
    }
   ],
   "source": [
    "print(txt[1:])"
   ]
  },
  {
   "cell_type": "code",
   "execution_count": 41,
   "metadata": {},
   "outputs": [
    {
     "name": "stdout",
     "output_type": "stream",
     "text": [
      "labas\n"
     ]
    }
   ],
   "source": [
    "pirmas = 4\n",
    "antras = 4\n",
    "if pirmas>=antras :\n",
    "    print('labas')"
   ]
  },
  {
   "cell_type": "code",
   "execution_count": null,
   "metadata": {},
   "outputs": [],
   "source": [
    "skaicius = 12\n"
   ]
  },
  {
   "cell_type": "code",
   "execution_count": 50,
   "metadata": {},
   "outputs": [],
   "source": [
    "pirmas_sk = float(input(\"Įveskite pirmą skaičių: \"))\n",
    "antras_sk = float(input(\"Įveskite antrą skaičių: \"))"
   ]
  },
  {
   "cell_type": "code",
   "execution_count": 1,
   "metadata": {},
   "outputs": [
    {
     "name": "stdout",
     "output_type": "stream",
     "text": [
      "Įvestas tekstas yra sakinyje.\n"
     ]
    }
   ],
   "source": [
    "\n",
    "sakinys = \"Vilnius yra UNESCO paveldas nuo 1996 metų.\"\n",
    "\n",
    "vartotojo_tekstas = input(\"Įveskite tekstą: \")\n",
    "\n",
    "if vartotojo_tekstas in sakinys :\n",
    "    print(\"Įvestas tekstas yra sakinyje.\")\n",
    "else:\n",
    "    print(\"Įvestas tekstas nėra sakinyje.\")\n",
    "\n"
   ]
  },
  {
   "cell_type": "code",
   "execution_count": 24,
   "metadata": {},
   "outputs": [
    {
     "name": "stdout",
     "output_type": "stream",
     "text": [
      "(sk) nėra tarp 10 ir 20.\n"
     ]
    }
   ],
   "source": [
    "\n",
    "sk = float(input(\"Įveskite skaičių: \"))\n",
    "\n",
    "if 10 < sk > 20:\n",
    "    print(f\"(sk) yra tarp 10 ir 20.\")\n",
    "else:\n",
    "    print(f\"(sk) nėra tarp 10 ir 20.\")"
   ]
  },
  {
   "cell_type": "code",
   "execution_count": 26,
   "metadata": {},
   "outputs": [
    {
     "name": "stdout",
     "output_type": "stream",
     "text": [
      "3 nėra lyginis skaičius.\n"
     ]
    }
   ],
   "source": [
    "\n",
    "# Paklauskime vartotojo įvesti skaičių\n",
    "sk = int(input(\"Įveskite skaičių: \"))\n",
    "\n",
    "# Patikriname, ar skaičius yra lyginis\n",
    "if sk % 2 == 0:\n",
    "    print(f\"{sk} yra lyginis skaičius.\")\n",
    "else:\n",
    "    print(f\"{sk} nėra lyginis skaičius.\")\n"
   ]
  },
  {
   "cell_type": "code",
   "execution_count": 49,
   "metadata": {},
   "outputs": [
    {
     "name": "stdout",
     "output_type": "stream",
     "text": [
      "18 yra lyginis skaicius\n"
     ]
    }
   ],
   "source": [
    "skaicius = int(input('iveskite skaiciu'))\n",
    "if skaicius % 2 == 0 :\n",
    "    # f\"{skaicius} yra lyginis skaicius\"\n",
    "    # str(skaicius) + \" yra lyginis skaicius\"\n",
    "    print(f\"{skaicius} yra lyginis skaicius\")\n",
    "    "
   ]
  },
  {
   "cell_type": "code",
   "execution_count": 6,
   "metadata": {},
   "outputs": [
    {
     "name": "stdout",
     "output_type": "stream",
     "text": [
      "32\n"
     ]
    }
   ],
   "source": [
    "sk = int(input(\"Įveskite skaičių: \"))\n",
    "\n",
    "# Patikriname, ar skaičius dalinasi iš 3 ir / ar iš 5\n",
    "if sk % 3 == 1 and sk % 5 == 1:\n",
    "    print(\"FizzBuzz\")\n",
    "elif sk % 3 == 0:\n",
    "    print(\"Fizz\")\n",
    "elif sk % 5 == 0:\n",
    "    print(\"Buzz\")\n",
    "else:\n",
    "    print(sk)"
   ]
  },
  {
   "cell_type": "code",
   "execution_count": 11,
   "metadata": {},
   "outputs": [
    {
     "name": "stdout",
     "output_type": "stream",
     "text": [
      "Jūs įvedėte tekstą.\n"
     ]
    }
   ],
   "source": [
    "\n",
    "tekstas = input(\"Įveskite tekstą: \")\n",
    "\n",
    "# 1. Patikrinkite, ar vartotojas apskritai ką nors įvedė\n",
    "if not tekstas:\n",
    "    print(\"Nieko neįvedėte.\")\n",
    "else:\n",
    "    print(\"Jūs įvedėte tekstą.\")"
   ]
  },
  {
   "cell_type": "code",
   "execution_count": 14,
   "metadata": {},
   "outputs": [
    {
     "name": "stdout",
     "output_type": "stream",
     "text": [
      "Tekste nėra vien tik skaičių.\n"
     ]
    }
   ],
   "source": [
    "# 2. Patikrinkite, ar jame vien tik skaičiai\n",
    "if tekstas.isdigit():\n",
    "        print(\"Tekste yra vien tik skaičiai.\")\n",
    "else:\n",
    "        print(\"Tekste nėra vien tik skaičių.\")"
   ]
  },
  {
   "cell_type": "code",
   "execution_count": 25,
   "metadata": {},
   "outputs": [
    {
     "name": "stdout",
     "output_type": "stream",
     "text": [
      "Tekste yra vien tik raidės.\n"
     ]
    }
   ],
   "source": [
    "# 3. Patikrinkite, ar jame vien tik raidės\n",
    "if tekstas.isalpha():\n",
    "        print(\"Tekste yra vien tik raidės.\")\n",
    "else:\n",
    "        print(\"Tekste nėra vien tik raidžių.\")"
   ]
  },
  {
   "cell_type": "code",
   "execution_count": 29,
   "metadata": {},
   "outputs": [
    {
     "name": "stdout",
     "output_type": "stream",
     "text": [
      "Tekstas parašytas mažosiomis raidėmis.\n"
     ]
    }
   ],
   "source": [
    "# 5. KOKIU SRIFTU PARASYTAS   TEKSTAS\n",
    "if tekstas.isupper():\n",
    "        print(\"Tekstas parašytas didžiosiomis raidėmis.\")\n",
    "elif tekstas.islower():\n",
    "        print(\"Tekstas parašytas mažosiomis raidėmis.\")\n",
    "else:\n",
    "        print(\"Tekstas parašytas mišriomis raidėmis.\")"
   ]
  },
  {
   "cell_type": "code",
   "execution_count": 34,
   "metadata": {},
   "outputs": [
    {
     "name": "stdout",
     "output_type": "stream",
     "text": [
      "tekstas geras\n"
     ]
    }
   ],
   "source": [
    "if tekstas.isupper():\n",
    "        print('tekstas parasytas')  \n",
    "elif tekstas.islower():\n",
    "        print('tekstas geras')\n",
    "else: print('nieko gero')\n",
    "        "
   ]
  },
  {
   "cell_type": "code",
   "execution_count": null,
   "metadata": {},
   "outputs": [],
   "source": []
  },
  {
   "cell_type": "code",
   "execution_count": 4,
   "metadata": {},
   "outputs": [
    {
     "name": "stdout",
     "output_type": "stream",
     "text": [
      "1\n"
     ]
    }
   ],
   "source": [
    "print(7%2)"
   ]
  },
  {
   "cell_type": "code",
   "execution_count": 12,
   "metadata": {},
   "outputs": [
    {
     "ename": "SyntaxError",
     "evalue": "expected ':' (1492992402.py, line 4)",
     "output_type": "error",
     "traceback": [
      "\u001b[1;36m  Cell \u001b[1;32mIn[12], line 4\u001b[1;36m\u001b[0m\n\u001b[1;33m    else skaicius  % 3 == % 0 :\u001b[0m\n\u001b[1;37m         ^\u001b[0m\n\u001b[1;31mSyntaxError\u001b[0m\u001b[1;31m:\u001b[0m expected ':'\n"
     ]
    }
   ],
   "source": [
    "skaicius = int(input('iveskite skaiciu'))\n",
    "if skaicius % 3 == 0 and skaicius % 5== 0:\n",
    "        print('fizruk')\n",
    "elif skaicius  % 3 == % 0 :\n",
    "    print ('fi')\n"
   ]
  },
  {
   "cell_type": "code",
   "execution_count": 13,
   "metadata": {},
   "outputs": [
    {
     "name": "stdout",
     "output_type": "stream",
     "text": [
      "Nėra jokios sąlygos išpildytos\n"
     ]
    }
   ],
   "source": [
    "# Prašome vartotojo įvesti skaičių\n",
    "skaicius = int(input('Įveskite skaičių: '))\n",
    "\n",
    "# Tikriname, ar skaičius dalinasi iš 3 ir 5\n",
    "if skaicius % 3 == 0 and skaicius % 5 == 0:\n",
    "    print('fizruk')\n",
    "# Tikriname, ar skaičius dalinasi tik iš 3\n",
    "elif skaicius % 3 == 0:\n",
    "    print('fi')\n",
    "# Galima pridėti kitą sąlygą, jei norite patikrinti skaičių dalinimąsi iš 5\n",
    "elif skaicius % 5 == 0:\n",
    "    print('zuk')\n",
    "else:\n",
    "    print('Nėra jokios sąlygos išpildytos')"
   ]
  }
 ],
 "metadata": {
  "kernelspec": {
   "display_name": "Python 3",
   "language": "python",
   "name": "python3"
  },
  "language_info": {
   "codemirror_mode": {
    "name": "ipython",
    "version": 3
   },
   "file_extension": ".py",
   "mimetype": "text/x-python",
   "name": "python",
   "nbconvert_exporter": "python",
   "pygments_lexer": "ipython3",
   "version": "3.13.0"
  }
 },
 "nbformat": 4,
 "nbformat_minor": 2
}
