{
 "cells": [
  {
   "cell_type": "code",
   "execution_count": 2,
   "metadata": {},
   "outputs": [
    {
     "data": {
      "text/plain": [
       "8"
      ]
     },
     "execution_count": 2,
     "metadata": {},
     "output_type": "execute_result"
    }
   ],
   "source": [
    "max([1, 4, 8, 7])"
   ]
  },
  {
   "cell_type": "code",
   "execution_count": null,
   "metadata": {},
   "outputs": [
    {
     "name": "stdout",
     "output_type": "stream",
     "text": [
      "Didžiausias skaičius: 9, Indeksas: 4\n"
     ]
    }
   ],
   "source": [
    "def RastiDidziausiaSkaiciu(skaiciai):\n",
    "    if not skaiciai :\n",
    "      return \"saras tuscias\"\n",
    "    \n",
    "    Didziausia_Skaiciu = max(skaiciai)\n",
    "    indeksas = skaiciai.index(Didziausia_Skaiciu)\n",
    "    return Didziausia_Skaiciu, indeksas\n",
    "Didziausia_Skaiciu,indeksas=RastiDidziausiaSkaiciu([1, 4, 8, 7, 9,])\n",
    "print(f\"Didžiausias skaičius: {Didziausia_Skaiciu}, Indeksas: {indeksas}\")\n",
    "\n",
    "\n"
   ]
  }
 ],
 "metadata": {
  "kernelspec": {
   "display_name": "Python 3",
   "language": "python",
   "name": "python3"
  },
  "language_info": {
   "codemirror_mode": {
    "name": "ipython",
    "version": 3
   },
   "file_extension": ".py",
   "mimetype": "text/x-python",
   "name": "python",
   "nbconvert_exporter": "python",
   "pygments_lexer": "ipython3",
   "version": "3.13.0"
  }
 },
 "nbformat": 4,
 "nbformat_minor": 2
}
