{
 "cells": [
  {
   "cell_type": "code",
   "execution_count": 9,
   "metadata": {},
   "outputs": [],
   "source": [
    "# Sukuriame duomenis\n",
    "duomenys = [\n",
    "    \"Petras;Petrauskas;44\",\n",
    "    \"Jonas;Jonaitis;32\",\n",
    "    \"Kestas;Kestutaiti;18\",\n",
    "    \"Joana;Joaniene;54\",\n",
    "    \"Marius;Marietis;19\",\n",
    "    \"kurimis;kurmiavius;22\"\n",
    "]\n",
    "\n",
    "# Atidarome failą rašymo režimu ('w')\n",
    "with open('asmenys.txt', 'w') as f:\n",
    "    # Įrašome kiekvieną eilutę į failą\n",
    "    for eilute in duomenys:\n",
    "        f.write(eilute + \"\\n\")\n"
   ]
  },
  {
   "cell_type": "code",
   "execution_count": 12,
   "metadata": {},
   "outputs": [
    {
     "ename": "IndentationError",
     "evalue": "expected an indented block after 'for' statement on line 7 (351537599.py, line 8)",
     "output_type": "error",
     "traceback": [
      "\u001b[1;36m  Cell \u001b[1;32mIn[12], line 8\u001b[1;36m\u001b[0m\n\u001b[1;33m    f.write(eilute + \"\\n\")\u001b[0m\n\u001b[1;37m    ^\u001b[0m\n\u001b[1;31mIndentationError\u001b[0m\u001b[1;31m:\u001b[0m expected an indented block after 'for' statement on line 7\n"
     ]
    }
   ],
   "source": [
    "duomenys = [\n",
    "    \"simas;simaitis;23\"\n",
    "    \"pertikis;abdula;78\"\n",
    "    \"daina;dainora;30\"\n",
    "]\n",
    "with open(\"obuolys.txt\",\"w\") as f:\n",
    "    for eilute in duomenys:\n",
    "    f.write(eilute + \"\\n\")\n"
   ]
  },
  {
   "cell_type": "code",
   "execution_count": null,
   "metadata": {},
   "outputs": [],
   "source": [
    "# Teisingai apibrėžtas sąrašas su duomenimis\n",
    "duomenys = [\n",
    "    \"simas;simaitis;23\",\n",
    "    \"pertikis;abdula;78\",\n",
    "    \"daina;dainora;30\"\n",
    "    \"klaudijus,pus;34\"\n",
    "]\n",
    "\n",
    "# Atidarome failą rašymo režimu ('w') ir įrašome duomenis\n",
    "with open(\"obuolys.txt\", \"w\") as f:\n",
    "    for eilute in duomenys:\n",
    "        f.write(eilute + \"\\n\")\n"
   ]
  },
  {
   "cell_type": "code",
   "execution_count": 20,
   "metadata": {},
   "outputs": [
    {
     "name": "stdout",
     "output_type": "stream",
     "text": [
      "Amžiaus vidurkis: 41.25\n"
     ]
    }
   ],
   "source": [
    "# Teisingai apibrėžtas sąrašas su duomenimis\n",
    "duomenys = [\n",
    "    \"simas;simaitis;23\",\n",
    "    \"pertikis;abdula;78\",\n",
    "    \"daina;dainora;30\",\n",
    "    \"klaudijus;pus;34\"  # Čia pridedamas trūkstamas kablelis\n",
    "]\n",
    "\n",
    "# Atidarome failą rašymo režimu ('w') ir įrašome duomenis\n",
    "with open(\"obuolys.txt\", \"w\") as f:\n",
    "    for eilute in duomenys:\n",
    "        f.write(eilute + \"\\n\")\n",
    "\n",
    "# Apskaičiuoti amžiaus vidurkį\n",
    "amziaus_suma = 0\n",
    "skaiciuojami_asmenys = 0\n",
    "\n",
    "for eilute in duomenys:\n",
    "    # Padaliname eilutę pagal kabliataškį\n",
    "    dalys = eilute.split(\";\")\n",
    "    # Paimame amžių (trečias elementas) ir konvertuojame į sveikąjį skaičių\n",
    "    amzius = int(dalys[2])\n",
    "    \n",
    "    # Pridedame prie sumos\n",
    "    amziaus_suma += amzius\n",
    "    skaiciuojami_asmenys += 1\n",
    "\n",
    "# Apskaičiuojame vidurkį\n",
    "vidurkis = amziaus_suma / skaiciuojami_asmenys\n",
    "\n",
    "# Išvedame amžiaus vidurkį\n",
    "print(f\"Amžiaus vidurkis: {vidurkis:.2f}\")\n"
   ]
  }
 ],
 "metadata": {
  "kernelspec": {
   "display_name": "Python 3",
   "language": "python",
   "name": "python3"
  },
  "language_info": {
   "codemirror_mode": {
    "name": "ipython",
    "version": 3
   },
   "file_extension": ".py",
   "mimetype": "text/x-python",
   "name": "python",
   "nbconvert_exporter": "python",
   "pygments_lexer": "ipython3",
   "version": "3.13.0"
  }
 },
 "nbformat": 4,
 "nbformat_minor": 2
}
