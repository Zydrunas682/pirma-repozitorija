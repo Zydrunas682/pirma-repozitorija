{
 "cells": [
  {
   "cell_type": "code",
   "execution_count": 1,
   "metadata": {},
   "outputs": [
    {
     "ename": "IndentationError",
     "evalue": "expected an indented block after function definition on line 1 (2949316026.py, line 2)",
     "output_type": "error",
     "traceback": [
      "\u001b[1;36m  Cell \u001b[1;32mIn[1], line 2\u001b[1;36m\u001b[0m\n\u001b[1;33m    print(\"Aš esu funkcijoje\")\u001b[0m\n\u001b[1;37m    ^\u001b[0m\n\u001b[1;31mIndentationError\u001b[0m\u001b[1;31m:\u001b[0m expected an indented block after function definition on line 1\n"
     ]
    }
   ],
   "source": [
    "def fn_name():\n",
    "print(\"Aš esu funkcijoje\")\n",
    "#iškvietimas:\n",
    "fn_name()"
   ]
  },
  {
   "cell_type": "code",
   "execution_count": 2,
   "metadata": {},
   "outputs": [
    {
     "ename": "IndentationError",
     "evalue": "expected an indented block after function definition on line 1 (3162481385.py, line 2)",
     "output_type": "error",
     "traceback": [
      "\u001b[1;36m  Cell \u001b[1;32mIn[2], line 2\u001b[1;36m\u001b[0m\n\u001b[1;33m    print('Esu paprasta funkcija')\u001b[0m\n\u001b[1;37m    ^\u001b[0m\n\u001b[1;31mIndentationError\u001b[0m\u001b[1;31m:\u001b[0m expected an indented block after function definition on line 1\n"
     ]
    }
   ],
   "source": [
    "def funkcija():\n",
    "print('Esu paprasta funkcija')"
   ]
  },
  {
   "cell_type": "code",
   "execution_count": null,
   "metadata": {},
   "outputs": [
    {
     "name": "stdout",
     "output_type": "stream",
     "text": [
      "[1, 9]\n"
     ]
    }
   ],
   "source": [
    "def first_and_last(input_list):\n",
    "    if not input_list:  # Patikriname, ar sąrašas nėra tuščias\n",
    "        return []\n",
    "    return [input_list[0], input_list[-1]]\n",
    "\n",
    "# Pavyzdys\n",
    "result = first_and_last([1, 2, 3, 4, 5, 6, 7, 8, 9])\n",
    "print(result)  # Išves: [1, 9]\n"
   ]
  },
  {
   "cell_type": "code",
   "execution_count": 4,
   "metadata": {},
   "outputs": [
    {
     "name": "stdout",
     "output_type": "stream",
     "text": [
      "[2, 9]\n"
     ]
    }
   ],
   "source": [
    "def first_and_last(input_list):\n",
    "    if not input_list:  # Patikriname, ar sąrašas nėra tuščias\n",
    "        return []\n",
    "    return [input_list[1], input_list[-1]]\n",
    "\n",
    "# Pavyzdys\n",
    "result = first_and_last([1, 2, 3, 4, 5, 6, 7, 8, 9])\n",
    "print(result)  # Išves: [1, 9]\n"
   ]
  },
  {
   "cell_type": "code",
   "execution_count": 12,
   "metadata": {
    "tags": [
     "parameters"
    ]
   },
   "outputs": [
    {
     "ename": "IndentationError",
     "evalue": "expected an indented block after 'if' statement on line 2 (459557979.py, line 3)",
     "output_type": "error",
     "traceback": [
      "\u001b[1;36m  Cell \u001b[1;32mIn[12], line 3\u001b[1;36m\u001b[0m\n\u001b[1;33m    return \"Ok\"\u001b[0m\n\u001b[1;37m    ^\u001b[0m\n\u001b[1;31mIndentationError\u001b[0m\u001b[1;31m:\u001b[0m expected an indented block after 'if' statement on line 2\n"
     ]
    }
   ],
   "source": [
    "def patikrinti_greit (greitis):\n",
    "    if greitis <= 50:\n",
    "    return \"Ok\"\n",
    "else:\n",
    "    baudos_taskai = (greitis - 50) // 5\n",
    "if  baudos_taskai >= 8:\n",
    "    return f\"{baudos_taskai} - (Vairuotojo teisės atimamos)\"\n",
    "else:\n",
    "    return baudos_taskai\n",
    "print(check_speed(40))  # Išves: Ok\n",
    "print(check_speed(70))  # Išves: 4\n",
    "print(check_speed(90))"
   ]
  },
  {
   "cell_type": "code",
   "execution_count": 17,
   "metadata": {},
   "outputs": [
    {
     "ename": "SyntaxError",
     "evalue": "expected '(' (2239445797.py, line 1)",
     "output_type": "error",
     "traceback": [
      "\u001b[1;36m  Cell \u001b[1;32mIn[17], line 1\u001b[1;36m\u001b[0m\n\u001b[1;33m    def check_speed =in(input(60)):\u001b[0m\n\u001b[1;37m                    ^\u001b[0m\n\u001b[1;31mSyntaxError\u001b[0m\u001b[1;31m:\u001b[0m expected '('\n"
     ]
    }
   ],
   "source": [
    "def check_speed =in(input(60)):\n",
    "    if speed <= 50:\n",
    "        return \"Ok\"\n",
    "    else:\n",
    "        # Apskaičiuojame baudos taškus\n",
    "        penalty_points = (speed - 50) // 5\n",
    "        \n",
    "        # Tikriname, ar taškų suma yra 8 ar daugiau\n",
    "        if penalty_points >= 8:\n",
    "            return f\"{penalty_points} - Vairuotojo teisės atimamos\"\n",
    "        else:\n",
    "            return penalty_points\n",
    "\n",
    "# Pavyzdžiai\n",
    "print(check_speed(40))  # Išves: Ok\n",
    "print(check_speed(70))  # Išves: 4\n",
    "print(check_speed(90))  # Išves: 8 - Vairuotojo teisės atimamos\n"
   ]
  },
  {
   "cell_type": "code",
   "execution_count": 19,
   "metadata": {},
   "outputs": [
    {
     "name": "stdout",
     "output_type": "stream",
     "text": [
      "lasketbaB\n"
     ]
    }
   ],
   "source": [
    "def swap_first_and_last(text):\n",
    "    if len(text) <= 1:  # Patikriname, ar tekstas yra ilgesnis nei 1 simbolis\n",
    "        return text\n",
    "    # Apkeičiam pirmą ir paskutinę raidę\n",
    "    swapped_text = text[-1] + text[1:-1] + text[0]\n",
    "    return swapped_text\n",
    "\n",
    "# Pavyzdys\n",
    "result = swap_first_and_last(\"Basketbal\")\n",
    "print(result)  # Išves: sytaR\n"
   ]
  },
  {
   "cell_type": "code",
   "execution_count": 21,
   "metadata": {},
   "outputs": [
    {
     "name": "stdout",
     "output_type": "stream",
     "text": [
      "Ok\n",
      "4\n",
      "8 - Vairuotojo teisės atimamos\n"
     ]
    }
   ],
   "source": [
    "def check_speed(speed):\n",
    "    if speed <= 50:\n",
    "        return \"Ok\"\n",
    "    else:\n",
    "        # Apskaičiuojame baudos taškus\n",
    "        penalty_points = (speed - 50) // 5\n",
    "        \n",
    "        # Tikriname, ar taškų suma yra 8 ar daugiau\n",
    "        if penalty_points >= 8:\n",
    "            return f\"{penalty_points} - Vairuotojo teisės atimamos\"\n",
    "        else:\n",
    "            return penalty_points\n",
    "\n",
    "# Pavyzdžiai\n",
    "print(check_speed(40))  # Išves: Ok\n",
    "print(check_speed(70))  # Išves: 4\n",
    "print(check_speed(90))  # Išves: 8 - Vairuotojo teisės atimamos\n"
   ]
  },
  {
   "cell_type": "code",
   "execution_count": 29,
   "metadata": {},
   "outputs": [
    {
     "name": "stdout",
     "output_type": "stream",
     "text": [
      "Hello, Wor\n"
     ]
    }
   ],
   "source": [
    "zodis = \"Hello, World!\"\n",
    "print(zodis[: -3:])\n"
   ]
  },
  {
   "cell_type": "code",
   "execution_count": 37,
   "metadata": {},
   "outputs": [
    {
     "ename": "SyntaxError",
     "evalue": "invalid syntax (3666839459.py, line 8)",
     "output_type": "error",
     "traceback": [
      "\u001b[1;36m  Cell \u001b[1;32mIn[37], line 8\u001b[1;36m\u001b[0m\n\u001b[1;33m    common_elements = list(set1.intersection(set2).intersectionset3.)\u001b[0m\n\u001b[1;37m                                                                    ^\u001b[0m\n\u001b[1;31mSyntaxError\u001b[0m\u001b[1;31m:\u001b[0m invalid syntax\n"
     ]
    }
   ],
   "source": [
    "def find_common_elements(seq1, seq2):\n",
    "    # Naudojame set, kad gautume unikalius elementus\n",
    "    set1 = set(seq1)\n",
    "    set2 = set(seq2)\n",
    "    set3 = set(set3)\n",
    "    \n",
    "    # Grąžiname bendrus elementus\n",
    "    common_elements = list(set1.intersection(set2).intersectionset3.)\n",
    "    \n",
    "    return common_elements\n",
    "\n",
    "# Pavyzdys\n",
    "x = [1, 1, 2, 3, 1]\n",
    "y = [1, 3, 2, 6]\n",
    "z = [2,4,1,6,]\n",
    "result = find_common_elements(x, y,z)\n",
    "print(result)  # Išves: [1, 3]\n"
   ]
  },
  {
   "cell_type": "code",
   "execution_count": null,
   "metadata": {},
   "outputs": [
    {
     "name": "stdout",
     "output_type": "stream",
     "text": [
      "{4, 5}\n"
     ]
    }
   ],
   "source": [
    "# ukuriame du set'us\n",
    "set1 = {1, 2, 3, 4, 5}\n",
    "set2 = {4, 5, 6, 7, 8}\n",
    "set3 = {4,7,8,2,4,9,5}\n",
    "\n",
    "# Naudojame intersection() metodą\n",
    "common_elements = set1.intersection(set2,set3)\n",
    "\n",
    "print(common_elements)  "
   ]
  },
  {
   "cell_type": "code",
   "execution_count": 42,
   "metadata": {},
   "outputs": [
    {
     "name": "stdout",
     "output_type": "stream",
     "text": [
      "{4}\n"
     ]
    }
   ],
   "source": [
    "# Sukuriame du set'us\n",
    "set1 = {1, 2, 3, 4, 5}\n",
    "set2 = {4, 5, 6, 7, 8}\n",
    "set3 = {4, 7, 9, 0, 3}\n",
    "\n",
    "# Gauname bendrus elementus\n",
    "common_elements = set1.intersection(set2, set3)\n",
    "\n",
    "print(common_elements)  # Išves: {4, 5}\n"
   ]
  },
  {
   "cell_type": "code",
   "execution_count": 1,
   "metadata": {},
   "outputs": [
    {
     "ename": "SyntaxError",
     "evalue": "invalid syntax (1386988197.py, line 2)",
     "output_type": "error",
     "traceback": [
      "\u001b[1;36m  Cell \u001b[1;32mIn[1], line 2\u001b[1;36m\u001b[0m\n\u001b[1;33m    for skaicius range (1, limitas + 1):\u001b[0m\n\u001b[1;37m                 ^\u001b[0m\n\u001b[1;31mSyntaxError\u001b[0m\u001b[1;31m:\u001b[0m invalid syntax\n"
     ]
    }
   ],
   "source": [
    "limitas = 3000\n",
    "for skaicius range (1, limitas + 1):\n",
    "    print (skaicius)\n"
   ]
  },
  {
   "cell_type": "code",
   "execution_count": 2,
   "metadata": {},
   "outputs": [
    {
     "data": {
      "text/plain": [
       "5"
      ]
     },
     "execution_count": 2,
     "metadata": {},
     "output_type": "execute_result"
    }
   ],
   "source": [
    "2+3"
   ]
  },
  {
   "cell_type": "code",
   "execution_count": 5,
   "metadata": {},
   "outputs": [
    {
     "name": "stdout",
     "output_type": "stream",
     "text": [
      "<class 'int'>\n",
      "<class 'float'>\n"
     ]
    }
   ],
   "source": [
    "kiekis = 20\n",
    "kaina = 9.2\n",
    "kiekis * kaina\n",
    "print(type(kiekis))\n",
    "print(type(kaina))"
   ]
  },
  {
   "cell_type": "code",
   "execution_count": null,
   "metadata": {},
   "outputs": [],
   "source": [
    "(type(kiekis))"
   ]
  }
 ],
 "metadata": {
  "kernelspec": {
   "display_name": "Python 3",
   "language": "python",
   "name": "python3"
  },
  "language_info": {
   "codemirror_mode": {
    "name": "ipython",
    "version": 3
   },
   "file_extension": ".py",
   "mimetype": "text/x-python",
   "name": "python",
   "nbconvert_exporter": "python",
   "pygments_lexer": "ipython3",
   "version": "3.13.0"
  }
 },
 "nbformat": 4,
 "nbformat_minor": 2
}
