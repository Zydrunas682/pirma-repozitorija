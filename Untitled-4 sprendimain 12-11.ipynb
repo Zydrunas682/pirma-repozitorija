{
 "cells": [
  {
   "cell_type": "code",
   "execution_count": 1,
   "metadata": {},
   "outputs": [
    {
     "data": {
      "text/plain": [
       "4"
      ]
     },
     "execution_count": 1,
     "metadata": {},
     "output_type": "execute_result"
    }
   ],
   "source": [
    "2+2"
   ]
  },
  {
   "cell_type": "code",
   "execution_count": null,
   "metadata": {},
   "outputs": [
    {
     "name": "stdout",
     "output_type": "stream",
     "text": [
      "Gavom sarašus:  [[11, 25, 6, 19, 17], [16, 22, 21, 16, 15], [13, 19, 17, 16, 20], [19, 5, 6, 18, 15], [12, 12, 17, 21, 24], [25, 21, 16, 12, 12], [5, 5, 13, 7, 11], [15, 7, 23, 15, 15], [7, 10, 15, 11, 13], [24, 8, 17, 16, 24]]\n",
      "40\n"
     ]
    }
   ],
   "source": [
    "#Sugeneruokite sąrašą iš 10 elementų, \n",
    "# kurio elementai būtų sąrašai iš 5 elementų su reikšmėmis nuo 5 iki 25.\n",
    "\n",
    "import random\n",
    "def ten_list_of_five():\n",
    "    sarasas = []\n",
    "    for x in range(10):\n",
    "        vidinis_sarasas = [random.randint(5, 25) for x in range(5)]\n",
    "        sarasas.append(vidinis_sarasas)\n",
    "    return sarasas \n",
    "sarasas = ten_list_of_five()\n",
    "print(\"Gavom sarašus: \", sarasas)\n",
    "#Priimdami sąrašą kaip parametrą aprašykite funkcijas kurios:\n",
    "# a)Suskaičiuotų kiek sąrašuose yra elementų didesnių už 10;\n",
    "def higher_than_10(sarasas):\n",
    "     count = 0\n",
    "     for vidinis_listas in sarasas:\n",
    "        for elementas in vidinis_listas:\n",
    "            if elementas > 10:\n",
    "              count += 1\n",
    "     return count\n",
    "sarasas1 = higher_than_10(sarasas)       \n",
    "print(sarasas1)"
   ]
  }
 ],
 "metadata": {
  "kernelspec": {
   "display_name": "Python 3",
   "language": "python",
   "name": "python3"
  },
  "language_info": {
   "codemirror_mode": {
    "name": "ipython",
    "version": 3
   },
   "file_extension": ".py",
   "mimetype": "text/x-python",
   "name": "python",
   "nbconvert_exporter": "python",
   "pygments_lexer": "ipython3",
   "version": "3.13.0"
  }
 },
 "nbformat": 4,
 "nbformat_minor": 2
}
