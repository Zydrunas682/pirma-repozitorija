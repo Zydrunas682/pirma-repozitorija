{
 "cells": [
  {
   "cell_type": "code",
   "execution_count": 1,
   "metadata": {},
   "outputs": [
    {
     "data": {
      "text/plain": [
       "4"
      ]
     },
     "execution_count": 1,
     "metadata": {},
     "output_type": "execute_result"
    }
   ],
   "source": [
    "2+2"
   ]
  },
  {
   "cell_type": "markdown",
   "metadata": {},
   "source": []
  },
  {
   "cell_type": "code",
   "execution_count": 6,
   "metadata": {},
   "outputs": [
    {
     "ename": "SyntaxError",
     "evalue": "invalid syntax (31031524.py, line 1)",
     "output_type": "error",
     "traceback": [
      "\u001b[1;36m  Cell \u001b[1;32mIn[6], line 1\u001b[1;36m\u001b[0m\n\u001b[1;33m    skaicius 1 = float(input(8))\u001b[0m\n\u001b[1;37m             ^\u001b[0m\n\u001b[1;31mSyntaxError\u001b[0m\u001b[1;31m:\u001b[0m invalid syntax\n"
     ]
    }
   ],
   "source": [
    "skaicius 1 = float(input(8))\n",
    "skaicius 2 =float (input(6))\n",
    "skaicius 3 = float (input(4))\n",
    "skaicius  =[skaicius 1,skaicius 2 , skaicius 3,]\n"
   ]
  },
  {
   "cell_type": "code",
   "execution_count": 16,
   "metadata": {},
   "outputs": [
    {
     "ename": "NameError",
     "evalue": "name 'Ivestis_1' is not defined",
     "output_type": "error",
     "traceback": [
      "\u001b[1;31m---------------------------------------------------------------------------\u001b[0m",
      "\u001b[1;31mNameError\u001b[0m                                 Traceback (most recent call last)",
      "Cell \u001b[1;32mIn[16], line 5\u001b[0m\n\u001b[0;32m      2\u001b[0m Ivestis_2 \u001b[38;5;241m=\u001b[39m \u001b[38;5;28mint\u001b[39m(\u001b[38;5;28minput\u001b[39m(\u001b[38;5;124m\"\u001b[39m\u001b[38;5;124mĮveskite skaičių:\u001b[39m\u001b[38;5;124m\"\u001b[39m))\n\u001b[0;32m      3\u001b[0m Ivestis_3 \u001b[38;5;241m=\u001b[39m \u001b[38;5;28mint\u001b[39m(\u001b[38;5;28minput\u001b[39m(\u001b[38;5;124m\"\u001b[39m\u001b[38;5;124mĮveskite skaičių:\u001b[39m\u001b[38;5;124m\"\u001b[39m))\n\u001b[1;32m----> 5\u001b[0m listas \u001b[38;5;241m=\u001b[39m [\u001b[43mIvestis_1\u001b[49m, Ivestis_2, Ivestis_3]\n\u001b[0;32m      6\u001b[0m listas\u001b[38;5;241m.\u001b[39msort()\n\u001b[0;32m      7\u001b[0m \u001b[38;5;28mprint\u001b[39m(\u001b[38;5;124mf\u001b[39m\u001b[38;5;124m\"\u001b[39m\u001b[38;5;124mVisi skaičiai: \u001b[39m\u001b[38;5;132;01m{\u001b[39;00mlistas\u001b[38;5;132;01m}\u001b[39;00m\u001b[38;5;124m, vidurinis skaičius yra \u001b[39m\u001b[38;5;132;01m{\u001b[39;00mlistas[\u001b[38;5;241m1\u001b[39m]\u001b[38;5;132;01m}\u001b[39;00m\u001b[38;5;124m\"\u001b[39m)\n",
      "\u001b[1;31mNameError\u001b[0m: name 'Ivestis_1' is not defined"
     ]
    }
   ],
   "source": [
    "ivestis_1 = int(input(\"Įveskite skaičių:\"))\n",
    "Ivestis_2 = int(input(\"Įveskite skaičių:\"))\n",
    "Ivestis_3 = int(input(\"Įveskite skaičių:\"))\n",
    "\n",
    "listas = [Ivestis_1, Ivestis_2, Ivestis_3]\n",
    "listas.sort()\n",
    "print(f\"Visi skaičiai: {listas}, vidurinis skaičius yra {listas[1]}\")"
   ]
  },
  {
   "cell_type": "code",
   "execution_count": 15,
   "metadata": {},
   "outputs": [
    {
     "ename": "ValueError",
     "evalue": "could not convert string to float: 'sk1=2,sk2=1,sk3=0'",
     "output_type": "error",
     "traceback": [
      "\u001b[1;31m---------------------------------------------------------------------------\u001b[0m",
      "\u001b[1;31mValueError\u001b[0m                                Traceback (most recent call last)",
      "Cell \u001b[1;32mIn[15], line 2\u001b[0m\n\u001b[0;32m      1\u001b[0m \u001b[38;5;66;03m# Paprašome vartotojo įvesti tris skaičius\u001b[39;00m\n\u001b[1;32m----> 2\u001b[0m sk1 \u001b[38;5;241m=\u001b[39m \u001b[38;5;28;43mfloat\u001b[39;49m\u001b[43m(\u001b[49m\u001b[38;5;28;43minput\u001b[39;49m\u001b[43m(\u001b[49m\u001b[38;5;124;43m\"\u001b[39;49m\u001b[38;5;124;43mĮveskite pirmą skaičių: \u001b[39;49m\u001b[38;5;124;43m\"\u001b[39;49m\u001b[43m)\u001b[49m\u001b[43m)\u001b[49m\n\u001b[0;32m      3\u001b[0m sk2 \u001b[38;5;241m=\u001b[39m \u001b[38;5;28mfloat\u001b[39m(\u001b[38;5;28minput\u001b[39m(\u001b[38;5;124m\"\u001b[39m\u001b[38;5;124mĮveskite antrą skaičių: \u001b[39m\u001b[38;5;124m\"\u001b[39m))\n\u001b[0;32m      4\u001b[0m sk3 \u001b[38;5;241m=\u001b[39m \u001b[38;5;28mfloat\u001b[39m(\u001b[38;5;28minput\u001b[39m(\u001b[38;5;124m\"\u001b[39m\u001b[38;5;124mĮveskite trečią skaičių: \u001b[39m\u001b[38;5;124m\"\u001b[39m))\n",
      "\u001b[1;31mValueError\u001b[0m: could not convert string to float: 'sk1=2,sk2=1,sk3=0'"
     ]
    }
   ],
   "source": [
    "# Paprašome vartotojo įvesti tris skaičius\n",
    "sk1 = float(input(\"Įveskite pirmą skaičių: \"))\n",
    "sk2 = float(input(\"Įveskite antrą skaičių: \"))\n",
    "sk3 = float(input(\"Įveskite trečią skaičių: \"))\n",
    "\n",
    "# Sudedame skaičius į sąrašą\n",
    "skaiciai = [sk1, sk2, sk3]\n",
    "\n",
    "# Rūšiuojame sąrašą\n",
    "skaiciai.sort()\n",
    "\n",
    "# Vidurinis skaičius yra antras po rūšiavimo\n",
    "vidurinis_skaicius = skaiciai[1]\n",
    "\n",
    "# Atspausdiname vidurinį skaičių\n",
    "print(f\"Vidurinis skaičius: {vidurinis_skaicius}\")"
   ]
  },
  {
   "cell_type": "code",
   "execution_count": 13,
   "metadata": {},
   "outputs": [
    {
     "ename": "ValueError",
     "evalue": "invalid literal for int() with base 10: '1,2,1,0,'",
     "output_type": "error",
     "traceback": [
      "\u001b[1;31m---------------------------------------------------------------------------\u001b[0m",
      "\u001b[1;31mValueError\u001b[0m                                Traceback (most recent call last)",
      "Cell \u001b[1;32mIn[13], line 2\u001b[0m\n\u001b[0;32m      1\u001b[0m Įvestis_1 \u001b[38;5;241m=\u001b[39m \u001b[38;5;28mint\u001b[39m(\u001b[38;5;28minput\u001b[39m(\u001b[38;5;124m\"\u001b[39m\u001b[38;5;124mĮveskite skaičių tarp 0 ir 2: \u001b[39m\u001b[38;5;124m\"\u001b[39m))\n\u001b[1;32m----> 2\u001b[0m Įvestis_2 \u001b[38;5;241m=\u001b[39m \u001b[38;5;28;43mint\u001b[39;49m\u001b[43m(\u001b[49m\u001b[38;5;28;43minput\u001b[39;49m\u001b[43m(\u001b[49m\u001b[38;5;124;43m\"\u001b[39;49m\u001b[38;5;124;43mĮveskite skaičių tarp 0 ir 2: \u001b[39;49m\u001b[38;5;124;43m\"\u001b[39;49m\u001b[43m)\u001b[49m\u001b[43m)\u001b[49m\n\u001b[0;32m      3\u001b[0m Įvestis_3 \u001b[38;5;241m=\u001b[39m \u001b[38;5;28mint\u001b[39m(\u001b[38;5;28minput\u001b[39m(\u001b[38;5;124m\"\u001b[39m\u001b[38;5;124mĮveskite skaičių tarp 0 ir 2: \u001b[39m\u001b[38;5;124m\"\u001b[39m))\n\u001b[0;32m      4\u001b[0m Įvestis_4 \u001b[38;5;241m=\u001b[39m \u001b[38;5;28mint\u001b[39m(\u001b[38;5;28minput\u001b[39m(\u001b[38;5;124m\"\u001b[39m\u001b[38;5;124mĮveskite skaičių tarp 0 ir 2: \u001b[39m\u001b[38;5;124m\"\u001b[39m))\n",
      "\u001b[1;31mValueError\u001b[0m: invalid literal for int() with base 10: '1,2,1,0,'"
     ]
    }
   ],
   "source": [
    "Įvestis_1 = int(input(\"Įveskite skaičių tarp 0 ir 2: \"))\n",
    "Įvestis_2 = int(input(\"Įveskite skaičių tarp 0 ir 2: \"))\n",
    "Įvestis_3 = int(input(\"Įveskite skaičių tarp 0 ir 2: \"))\n",
    "Įvestis_4 = int(input(\"Įveskite skaičių tarp 0 ir 2: \"))\n",
    "Įvessties_listas = []\n",
    "Įvessties_listas.append(Įvestis_1)\n",
    "Įvessties_listas.append(Įvestis_2)\n",
    "Įvessties_listas.append(Įvestis_3)\n",
    "Įvessties_listas.append(Įvestis_4)\n",
    "\n",
    "\n",
    "count_0 = Įvessties_listas.count(0)\n",
    "count_1 = Įvessties_listas.count(1)\n",
    "count_2 = Įvessties_listas.count(2)\n",
    "\n",
    "\n",
    "print(f\"Nulių yra: {count_0}\")\n",
    "print(f\"Vienetų yra: {count_1}\")\n",
    "print(f\"Dvejetų yra {count_2}\")"
   ]
  },
  {
   "cell_type": "code",
   "execution_count": null,
   "metadata": {},
   "outputs": [],
   "source": []
  },
  {
   "cell_type": "code",
   "execution_count": null,
   "metadata": {},
   "outputs": [],
   "source": [
    "kiekis = int(input('veskite perkama kieki'))\n",
    "if kiekis >1000:\n",
    "nuolaida = 0.03"
   ]
  },
  {
   "cell_type": "code",
   "execution_count": 19,
   "metadata": {},
   "outputs": [
    {
     "name": "stdout",
     "output_type": "stream",
     "text": [
      "Vilnius\n",
      "Rokiškis\n",
      "Mažeikiai\n"
     ]
    }
   ],
   "source": [
    "\n",
    " = ['Vilnius', 'Kaunas', 'Alytus', 'Rokiškis',\n",
    "'Ūla', 'Mažeikiai', 'Akmena']\n",
    "# Spausdinkite tik tuos miestus, kurių pavadinimai ilgesni nei 6\n",
    "# simboliai.\n",
    "for miestas in miestai:\n",
    "    if len(miestas) > 6:\n",
    "        print(miestas)\n",
    "miestai\n"
   ]
  },
  {
   "cell_type": "code",
   "execution_count": 72,
   "metadata": {},
   "outputs": [
    {
     "ename": "SyntaxError",
     "evalue": "unmatched ')' (904953775.py, line 10)",
     "output_type": "error",
     "traceback": [
      "\u001b[1;36m  Cell \u001b[1;32mIn[72], line 10\u001b[1;36m\u001b[0m\n\u001b[1;33m    print(' ' * (height) - i - 1) + symbol * (1 * i + 1)):\u001b[0m\n\u001b[1;37m                                                        ^\u001b[0m\n\u001b[1;31mSyntaxError\u001b[0m\u001b[1;31m:\u001b[0m unmatched ')'\n"
     ]
    }
   ],
   "source": [
    "# Paprašome vartotojo įvesti eglutės ilgį\n",
    "height = int(input('Įveskite eglutės ilgį (eilučių kiekį): '))\n",
    "\n",
    "# Paprašome vartotojo įvesti simbolį\n",
    "symbol = input('Įveskite simbolį eglutei: ')\n",
    "\n",
    "# Spausdiname eglutę\n",
    "for i in range(height):\n",
    "    # Spausdiname tarpus\n",
    "    print(' ' * (height) - i - 1) + symbol * (1 * i + 1)):"
   ]
  },
  {
   "cell_type": "code",
   "execution_count": 28,
   "metadata": {},
   "outputs": [
    {
     "name": "stdout",
     "output_type": "stream",
     "text": [
      "Pozicija: 0, Simbolis: \"A\"\n",
      "Pozicija: 1, Simbolis: \"š\"\n",
      "Pozicija: 2, Simbolis: \" \"\n",
      "Pozicija: 3, Simbolis: \"r\"\n",
      "Pozicija: 4, Simbolis: \"y\"\n",
      "Pozicija: 5, Simbolis: \"t\"\n",
      "Pozicija: 6, Simbolis: \"a\"\n",
      "Pozicija: 7, Simbolis: \"i\"\n",
      "Pozicija: 8, Simbolis: \"s\"\n",
      "Pozicija: 9, Simbolis: \" \"\n",
      "Pozicija: 10, Simbolis: \"m\"\n",
      "Pozicija: 11, Simbolis: \"ė\"\n",
      "Pozicija: 12, Simbolis: \"g\"\n",
      "Pozicija: 13, Simbolis: \"s\"\n",
      "Pozicija: 14, Simbolis: \"t\"\n",
      "Pozicija: 15, Simbolis: \"u\"\n",
      "Pozicija: 16, Simbolis: \" \"\n",
      "Pozicija: 17, Simbolis: \"k\"\n",
      "Pozicija: 18, Simbolis: \"a\"\n",
      "Pozicija: 19, Simbolis: \"v\"\n",
      "Pozicija: 20, Simbolis: \"ą\"\n",
      "Pozicija: 21, Simbolis: \" \"\n",
      "Pozicija: 22, Simbolis: \"s\"\n",
      "Pozicija: 23, Simbolis: \"u\"\n",
      "Pozicija: 24, Simbolis: \" \"\n",
      "Pozicija: 25, Simbolis: \"s\"\n",
      "Pozicija: 26, Simbolis: \"u\"\n",
      "Pozicija: 27, Simbolis: \"m\"\n",
      "Pozicija: 28, Simbolis: \"u\"\n",
      "Pozicija: 29, Simbolis: \"š\"\n",
      "Pozicija: 30, Simbolis: \"t\"\n",
      "Pozicija: 31, Simbolis: \"i\"\n",
      "Pozicija: 32, Simbolis: \"n\"\n",
      "Pozicija: 33, Simbolis: \"i\"\n",
      "Pozicija: 34, Simbolis: \"a\"\n",
      "Pozicija: 35, Simbolis: \"i\"\n",
      "Pozicija: 36, Simbolis: \"s\"\n",
      "Pozicija: 37, Simbolis: \" \"\n",
      "Pozicija: 38, Simbolis: \"i\"\n",
      "Pozicija: 39, Simbolis: \"r\"\n",
      "Pozicija: 40, Simbolis: \" \"\n",
      "Pozicija: 41, Simbolis: \"a\"\n",
      "Pozicija: 42, Simbolis: \"r\"\n",
      "Pozicija: 43, Simbolis: \"b\"\n",
      "Pozicija: 44, Simbolis: \"a\"\n",
      "Pozicija: 45, Simbolis: \"t\"\n",
      "Pozicija: 46, Simbolis: \"ą\"\n"
     ]
    }
   ],
   "source": [
    "# Duotas tekstas\n",
    "t = \"Aš rytais mėgstu kavą su sumuštiniais ir arbatą\"\n",
    "\n",
    "# Išvedame simbolius ir jų pozicijas\n",
    "for index, simbolis in enumerate(t):\n",
    "    print(f'Pozicija: {index}, Simbolis: \"{simbolis}\"')"
   ]
  },
  {
   "cell_type": "code",
   "execution_count": 29,
   "metadata": {},
   "outputs": [
    {
     "name": "stdout",
     "output_type": "stream",
     "text": [
      "Pozicija: 0, Simbolis: \"M\"\n",
      "Pozicija: 1, Simbolis: \"e\"\n",
      "Pozicija: 2, Simbolis: \"g\"\n",
      "Pozicija: 3, Simbolis: \"s\"\n",
      "Pozicija: 4, Simbolis: \"t\"\n",
      "Pozicija: 5, Simbolis: \"u\"\n",
      "Pozicija: 6, Simbolis: \" \"\n",
      "Pozicija: 7, Simbolis: \"a\"\n",
      "Pozicija: 8, Simbolis: \"r\"\n",
      "Pozicija: 9, Simbolis: \"b\"\n",
      "Pozicija: 10, Simbolis: \"a\"\n",
      "Pozicija: 11, Simbolis: \"t\"\n",
      "Pozicija: 12, Simbolis: \"a\"\n",
      "Pozicija: 13, Simbolis: \" \"\n",
      "Pozicija: 14, Simbolis: \"s\"\n",
      "Pozicija: 15, Simbolis: \"u\"\n",
      "Pozicija: 16, Simbolis: \" \"\n",
      "Pozicija: 17, Simbolis: \"b\"\n",
      "Pozicija: 18, Simbolis: \"a\"\n",
      "Pozicija: 19, Simbolis: \"n\"\n",
      "Pozicija: 20, Simbolis: \"d\"\n",
      "Pozicija: 21, Simbolis: \"u\"\n",
      "Pozicija: 22, Simbolis: \"k\"\n",
      "Pozicija: 23, Simbolis: \"e\"\n",
      "Pozicija: 24, Simbolis: \"m\"\n",
      "Pozicija: 25, Simbolis: \"i\"\n",
      "Pozicija: 26, Simbolis: \"s\"\n"
     ]
    }
   ],
   "source": [
    "# Duotas tekstas\n",
    "t = \"Megstu arbata su bandukemis\"\n",
    "\n",
    "# Išvedame simbolius ir jų pozicijas\n",
    "for index, simbolis in enumerate(t):\n",
    "    print(f'Pozicija: {index}, Simbolis: \"{simbolis}\"')"
   ]
  },
  {
   "cell_type": "code",
   "execution_count": 47,
   "metadata": {},
   "outputs": [
    {
     "name": "stdout",
     "output_type": "stream",
     "text": [
      "Aš sUmUšTiNiAiS RyTaIs mĖgStU KaVą sU  iR ArBaTą\n"
     ]
    }
   ],
   "source": [
    "t = \"Aš sumuštiniais rytais mėgstu kavą su  ir arbatą\"\n",
    "# Eilutės spausdinimas pagal nurodytas sąlygas\n",
    "for index, char in enumerate(t):\n",
    "    if index % 2 == 0:  # Lyginė pozicija\n",
    "        print(char.upper(), end='')  # Spausdiname viršutiniu registru\n",
    "    else:  # Nelyginė pozicija\n",
    "        print(char.lower(), end='')  # Spausdiname žemutiniu registru\n",
    "\n",
    "print()  # Pridėti naują eilutę po spausdinimo"
   ]
  },
  {
   "cell_type": "code",
   "execution_count": 49,
   "metadata": {},
   "outputs": [
    {
     "name": "stdout",
     "output_type": "stream",
     "text": [
      "Aš rytais mėgstu kavą su sumuštiniais ir arbatą\n",
      "Aš rytais mėgstu kavą su sumuštiniais ir arbatą\n",
      "Aš rytais mėgstu kavą su sumuštiniais ir arbatą\n",
      "Aš rytais mėgstu kavą su sumuštiniais ir arbatą\n",
      "Aš rytais mėgstu kavą su sumuštiniais ir arbatą\n",
      "Aš rytais mėgstu kavą su sumuštiniais ir arbatą\n",
      "Aš rytais mėgstu kavą su sumuštiniais ir arbatą\n",
      "Aš rytais mėgstu kavą su sumuštiniais ir arbatą\n"
     ]
    }
   ],
   "source": [
    "# Tekstas, iš kurio bus imami žodžiai\n",
    "text = \"Aš rytais mėgstu kavą su sumuštiniais ir arbatą\"\n",
    "\n",
    "# Padalijame eilutę į žodžius\n",
    "words = text.split()\n",
    "\n",
    "# Išvedame kiekvieną žodį atskirai\n",
    "for word in words:\n",
    "    print(text)"
   ]
  },
  {
   "cell_type": "code",
   "execution_count": 31,
   "metadata": {},
   "outputs": [
    {
     "name": "stdout",
     "output_type": "stream",
     "text": [
      "Aš\n",
      "rytais\n",
      "mėgstu\n",
      "kavą\n",
      "su\n",
      "sumuštiniais\n",
      "ir\n",
      "arbatą\n"
     ]
    }
   ],
   "source": [
    "t = \"Aš rytais mėgstu kavą su sumuštiniais ir arbatą\"\n",
    "\n",
    "# Padalijame eilutę į žodžius\n",
    "words = t.split()\n",
    "\n",
    "# Išvedame kiekvieną žodį atskirai\n",
    "for word in words:\n",
    "    print(word)"
   ]
  },
  {
   "cell_type": "code",
   "execution_count": 34,
   "metadata": {},
   "outputs": [
    {
     "name": "stdout",
     "output_type": "stream",
     "text": [
      "222\n",
      "222\n",
      "222\n"
     ]
    }
   ],
   "source": [
    "# Paprašome vartotojo įvesti simbolį\n",
    "symbol = input('Įveskite simbolį: ')\n",
    "\n",
    "# Paprašome vartotojo įvesti skaičių\n",
    "size = int(input('Įveskite kraštinę (skaičių): '))\n",
    "\n",
    "# Išvedame kvadratą\n",
    "for i in range(size):\n",
    "    print(symbol * size)"
   ]
  },
  {
   "cell_type": "code",
   "execution_count": 73,
   "metadata": {},
   "outputs": [
    {
     "name": "stdout",
     "output_type": "stream",
     "text": [
      "..22222\n",
      ".222222\n",
      "2222222\n"
     ]
    }
   ],
   "source": [
    "# Paprašome vartotojo įvesti eglutės ilgį\n",
    "height = int(input('Įveskite eglutės ilgį (eilučių kiekį): '))\n",
    "\n",
    "# Paprašome vartotojo įvesti simbolįzz\n",
    "symbol = input('Įveskite simbolį eglutei: ')\n",
    "\n",
    "# Spausdiname eglutę\n",
    "for i in range(height):\n",
    "    # Spausdiname tarpus\n",
    "    print('.' * (height - i - 1) + symbol * (1 * i + 5))"
   ]
  },
  {
   "cell_type": "code",
   "execution_count": 62,
   "metadata": {},
   "outputs": [
    {
     "name": "stdout",
     "output_type": "stream",
     "text": [
      "Vilnius\n",
      "Rokiškis\n",
      "Mažeikiai\n"
     ]
    }
   ],
   "source": [
    "\n",
    " text= ['Vilnius', 'Kaunas', 'Alytus', 'Rokiškis',\n",
    "'Ūla', 'Mažeikiai', 'Akmena']\n",
    "# Spausdinkite tik tuos miestus, kurių pavadinimai ilgesni nei 6\n",
    "# simboliai.\n",
    "for miestas in miestai:\n",
    "    if len(miestas) > 6:\n",
    "        print(miestas)\n",
    "\n"
   ]
  },
  {
   "cell_type": "code",
   "execution_count": 76,
   "metadata": {},
   "outputs": [
    {
     "name": "stdout",
     "output_type": "stream",
     "text": [
      "        f\n",
      "       fff\n",
      "      fffff\n",
      "     fffffff\n",
      "    fffffffff\n",
      "   fffffffffff\n",
      "  fffffffffffff\n",
      " fffffffffffffff\n",
      "fffffffffffffffff\n"
     ]
    }
   ],
   "source": [
    "# Paprašome vartotojo įvesti eglutės ilgį\n",
    "height = int(input('Įveskite eglutės ilgį (eilučių kiekį): '))\n",
    "\n",
    "# Paprašome vartotojo įvesti simbolį\n",
    "symbol = input('Įveskite simbolį eglutei: ')\n",
    "\n",
    "# Išvedame eglutę\n",
    "for i in range(height):\n",
    "    # Spausdiname tarpus ir simbolius\n",
    "    print(' ' * (height - i - 1) + symbol * (2 * i + 1))"
   ]
  },
  {
   "cell_type": "code",
   "execution_count": 3,
   "metadata": {},
   "outputs": [
    {
     "name": "stdout",
     "output_type": "stream",
     "text": [
      "Pozicija:0, Simbolis: \"M\"\n",
      "Pozicija:1, Simbolis: \"e\"\n",
      "Pozicija:2, Simbolis: \"g\"\n",
      "Pozicija:3, Simbolis: \"s\"\n",
      "Pozicija:4, Simbolis: \"t\"\n",
      "Pozicija:5, Simbolis: \"u\"\n",
      "Pozicija:6, Simbolis: \" \"\n",
      "Pozicija:7, Simbolis: \"a\"\n",
      "Pozicija:8, Simbolis: \"r\"\n",
      "Pozicija:9, Simbolis: \"b\"\n",
      "Pozicija:10, Simbolis: \"a\"\n",
      "Pozicija:11, Simbolis: \"t\"\n",
      "Pozicija:12, Simbolis: \"a\"\n",
      "Pozicija:13, Simbolis: \" \"\n",
      "Pozicija:14, Simbolis: \"s\"\n",
      "Pozicija:15, Simbolis: \"u\"\n",
      "Pozicija:16, Simbolis: \" \"\n",
      "Pozicija:17, Simbolis: \"b\"\n",
      "Pozicija:18, Simbolis: \"a\"\n",
      "Pozicija:19, Simbolis: \"n\"\n",
      "Pozicija:20, Simbolis: \"d\"\n",
      "Pozicija:21, Simbolis: \"u\"\n",
      "Pozicija:22, Simbolis: \"k\"\n",
      "Pozicija:23, Simbolis: \"e\"\n",
      "Pozicija:24, Simbolis: \"m\"\n",
      "Pozicija:25, Simbolis: \"i\"\n",
      "Pozicija:26, Simbolis: \"s\"\n"
     ]
    }
   ],
   "source": [
    "# Duotas tekstas\n",
    "t = \"Megstu arbata su bandukemis\"\n",
    "\n",
    "# Išvedame simbolius ir jų pozicijas\n",
    "for index, simbolis in enumerate(t):\n",
    "    print(f'Pozicija:{index}, Simbolis: \"{simbolis}\"')"
   ]
  },
  {
   "cell_type": "code",
   "execution_count": null,
   "metadata": {},
   "outputs": [],
   "source": [
    "i = 0\n",
    "sarasas = []\n",
    "\n",
    "while i < 10:\n",
    "    # Iteracija\n",
    "    print(f\"Kintamasis i yra: {i}\")\n",
    "    sarasas.append(\"Stringas\")\n",
    "    i += 1\n",
    "\n",
    "# Papildytas sąrašas:\n",
    "print(sarasas)"
   ]
  },
  {
   "cell_type": "code",
   "execution_count": 1,
   "metadata": {},
   "outputs": [
    {
     "name": "stdout",
     "output_type": "stream",
     "text": [
      "Aš\n",
      "rytais\n",
      "mėgstu\n",
      "kavą\n",
      "su\n",
      "sumuštiniais\n",
      "ir\n",
      "arbatą\n"
     ]
    }
   ],
   "source": [
    "t = \"Aš rytais mėgstu kavą su sumuštiniais ir arbatą\"\n",
    "zodziai = t.split()  # Padalina tekstą į žodžius\n",
    "\n",
    "for zodis in zodziai:\n",
    "    print(zodis)\n"
   ]
  },
  {
   "cell_type": "code",
   "execution_count": 4,
   "metadata": {},
   "outputs": [
    {
     "name": "stdout",
     "output_type": "stream",
     "text": [
      "Aš rytais mėgstu kavą su sumuštiniais ir arbatą.\n"
     ]
    }
   ],
   "source": [
    "sarasas = [\n",
    "    \"Aš\",\n",
    "    \"rytais\",\n",
    "    \"mėgstu\",\n",
    "    \"kavą\",\n",
    "    \"su\",\n",
    "    \"sumuštiniais\",\n",
    "    \"ir\",\n",
    "    \"arbatą.\"\n",
    "]\n",
    "\n",
    "# Sukuria sakinį iš žodžių\n",
    "sakinys =' '. join(sarasas)\n",
    "print(sakinys)"
   ]
  },
  {
   "cell_type": "code",
   "execution_count": 6,
   "metadata": {},
   "outputs": [],
   "source": [
    "# Vartotojo įvedimas\n",
    "ilgis = int(input(\"Įveskite minimalią žodžio ilgį: \"))\n",
    "tekstas = input(\"Įveskite tekstą, kurį žodis turi turėti: \")\n",
    "\n",
    "# Žodžių sąrašas\n",
    "sarasas = [\n",
    "    \"Aš\",\n",
    "    \"rytais\",\n",
    "    \"mėgstu\",\n",
    "    \"kavą\",\n",
    "    \"su\",\n",
    "    \"sumuštiniais\",                                                                             \n",
    "    \"ir\",\n",
    "    \"arbatą.\"\n",
    "]\n",
    "\n",
    "# Išvedame žodžius, kurie atitinka sąlygas\n",
    "for zodis in sarasas:\n",
    "    if len(zodis) > ilgis and tekstas in zodis:\n",
    "        print(zodis)\n"
   ]
  },
  {
   "cell_type": "code",
   "execution_count": 5,
   "metadata": {},
   "outputs": [
    {
     "name": "stdout",
     "output_type": "stream",
     "text": [
      "16\n",
      "15\n",
      "36\n",
      "30\n",
      "60\n"
     ]
    }
   ],
   "source": [
    "sarasas = [8, 5, 9, 6, 10]\n",
    "\n",
    "indeksas = 2\n",
    "\n",
    "for skaicius in sarasas :\n",
    "    print(skaicius * indeksas)\n",
    "    indeksas += 1\n"
   ]
  },
  {
   "cell_type": "code",
   "execution_count": 4,
   "metadata": {},
   "outputs": [
    {
     "name": "stdout",
     "output_type": "stream",
     "text": [
      "h\n",
      "e\n",
      "l\n",
      "l\n",
      "o\n"
     ]
    }
   ],
   "source": [
    "text = \"hello\"\n",
    "for letter in word:\n",
    "    print(letter)"
   ]
  },
  {
   "cell_type": "code",
   "execution_count": 6,
   "metadata": {},
   "outputs": [
    {
     "name": "stdout",
     "output_type": "stream",
     "text": [
      "name Alice\n",
      "age 30\n"
     ]
    }
   ],
   "source": [
    "person = {\"name\": \"Alice\", \"age\": 30}\n",
    "for key in person:\n",
    "    print(key, person[key])"
   ]
  },
  {
   "cell_type": "code",
   "execution_count": 10,
   "metadata": {},
   "outputs": [
    {
     "ename": "SyntaxError",
     "evalue": "invalid syntax (2632064090.py, line 5)",
     "output_type": "error",
     "traceback": [
      "\u001b[1;36m  Cell \u001b[1;32mIn[10], line 5\u001b[1;36m\u001b[0m\n\u001b[1;33m    mixed_tuple = (1, \"hello\", 3.14):\u001b[0m\n\u001b[1;37m                                    ^\u001b[0m\n\u001b[1;31mSyntaxError\u001b[0m\u001b[1;31m:\u001b[0m invalid syntax\n"
     ]
    }
   ],
   "source": [
    "# Tuplė su skaičiais\n",
    "my_tuple = (1, 2, 3)\n",
    "\n",
    "# Tuplė su įvairių tipų duomenimis\n",
    "mixed_tuple = (1, \"hello\", 3.14):\n",
    "    print =sep: str | None = \" \",\n"
   ]
  },
  {
   "cell_type": "code",
   "execution_count": 11,
   "metadata": {},
   "outputs": [
    {
     "name": "stdout",
     "output_type": "stream",
     "text": [
      "0\n",
      "1\n",
      "2\n",
      "3\n",
      "4\n",
      "5\n",
      "6\n",
      "7\n",
      "8\n",
      "9\n"
     ]
    }
   ],
   "source": [
    "count = 0\n",
    "while True:  # Begalybės ciklas\n",
    "    print(count)\n",
    "    count += 1  # Didiname count\n",
    "    if count >= 10:  # Kai count pasiekia 10\n",
    "        break  # Išeiname iš ciklo"
   ]
  },
  {
   "cell_type": "code",
   "execution_count": 16,
   "metadata": {},
   "outputs": [
    {
     "ename": "SyntaxError",
     "evalue": "invalid syntax (1636613921.py, line 2)",
     "output_type": "error",
     "traceback": [
      "\u001b[1;36m  Cell \u001b[1;32mIn[16], line 2\u001b[1;36m\u001b[0m\n\u001b[1;33m    for= count\u001b[0m\n\u001b[1;37m       ^\u001b[0m\n\u001b[1;31mSyntaxError\u001b[0m\u001b[1;31m:\u001b[0m invalid syntax\n"
     ]
    }
   ],
   "source": [
    "list = (simas,pertas,saulius)\n",
    "for= (count)\n",
    "    print = count"
   ]
  },
  {
   "cell_type": "code",
   "execution_count": 18,
   "metadata": {},
   "outputs": [
    {
     "name": "stdout",
     "output_type": "stream",
     "text": [
      "0\n",
      "1\n",
      "2\n",
      "3\n",
      "4\n",
      "5\n",
      "6\n"
     ]
    }
   ],
   "source": [
    "for i in range(7):  # 5 kartus\n",
    "    print(i)"
   ]
  },
  {
   "cell_type": "code",
   "execution_count": 28,
   "metadata": {},
   "outputs": [
    {
     "name": "stdout",
     "output_type": "stream",
     "text": [
      "0\n",
      "1\n",
      "2\n",
      "3\n",
      "4\n"
     ]
    }
   ],
   "source": [
    "for i in range(8):\n",
    "\n",
    "    if i >= 5:\n",
    "        continue  # Praleidžia, kai i yra 5\n",
    "    if i == 10:\n",
    "        break  # Išeina iš ciklo, kai i yra 8\n",
    "    print(i)"
   ]
  },
  {
   "cell_type": "code",
   "execution_count": 34,
   "metadata": {},
   "outputs": [
    {
     "name": "stdout",
     "output_type": "stream",
     "text": [
      "(('John', 'Jenny'), ('Charles', 'Christy'), ('Mike', 'Monica'))\n"
     ]
    }
   ],
   "source": [
    "a = (\"John\", \"Charles\", \"Mike\")\n",
    "b = (\"Jenny\", \"Christy\", \"Monica\")\n",
    "\n",
    "x = zip(a, b)\n",
    "\n",
    "print(tuple(x))"
   ]
  },
  {
   "cell_type": "code",
   "execution_count": 35,
   "metadata": {},
   "outputs": [
    {
     "name": "stdout",
     "output_type": "stream",
     "text": [
      "jjjjjjjjj\n",
      "jjjjjjjjj\n",
      "jjjjjjjjj\n",
      "jjjjjjjjj\n",
      "jjjjjjjjj\n",
      "jjjjjjjjj\n",
      "jjjjjjjjj\n",
      "jjjjjjjjj\n",
      "jjjjjjjjj\n"
     ]
    }
   ],
   "source": [
    "simbolis = input(\"Įveskite simbolį\")\n",
    "\n",
    "while True :\n",
    "    if simbolis == \"\" :\n",
    "        simbolis = input(\"Įveskite simbolį\")\n",
    "    else :\n",
    "        break\n",
    "\n",
    "kiekis = int(input(\"Įveskite kiekį\"))\n",
    "\n",
    "# print(simbolis, kiekis)\n",
    "\n",
    "for indeksas in range(kiekis) :\n",
    "    print(simbolis * kiekis)"
   ]
  },
  {
   "cell_type": "code",
   "execution_count": 46,
   "metadata": {},
   "outputs": [
    {
     "name": "stdout",
     "output_type": "stream",
     "text": [
      "siauliai\n",
      "Alesundas\n",
      "Bergenas\n"
     ]
    }
   ],
   "source": [
    "miestai = (\"siauliai\",\"Alesundas\", \"Molde\", \"Bergenas\")\n",
    "for miestas in miestai:\n",
    "    if len(miestas) >5:\n",
    "        print (miestas)"
   ]
  },
  {
   "cell_type": "code",
   "execution_count": 40,
   "metadata": {},
   "outputs": [
    {
     "name": "stdout",
     "output_type": "stream",
     "text": [
      "Vilnius\n",
      "Rokiškis\n",
      "Mažeikiai\n"
     ]
    }
   ],
   "source": [
    "miestai = ['Vilnius', 'Kaunas', 'Alytus', 'Rokiškis', 'Ūla', 'Mažeikiai', 'Akmena']\n",
    "\n",
    "for miestas in miestai :\n",
    "    if len(miestas) > 6 :\n",
    "        print(miestas)\n"
   ]
  },
  {
   "cell_type": "code",
   "execution_count": 48,
   "metadata": {},
   "outputs": [
    {
     "name": "stdout",
     "output_type": "stream",
     "text": [
      "[('Alice', 25), ('Bob', 30), ('Charlie', 35)]\n"
     ]
    }
   ],
   "source": [
    "# Du sąrašai\n",
    "names = [\"Alice\", \"Bob\", \"Charlie\"]\n",
    "ages = [25, 30, 35, 40]\n",
    "\n",
    "# Naudojame zip\n",
    "zipped = zip(names, ages)\n",
    "\n",
    "# Konvertuojame į sąrašą ir spausdiname\n",
    "print(list(zipped))"
   ]
  },
  {
   "cell_type": "code",
   "execution_count": 49,
   "metadata": {},
   "outputs": [
    {
     "name": "stdout",
     "output_type": "stream",
     "text": [
      "My name is John, I'm 36\n",
      "My name is John, I'm (1)\n"
     ]
    }
   ],
   "source": [
    "#named indexes:\n",
    "txt1 = \"My name is {fname}, I'm {age}\".format(fname = \"John\", age = 36)\n",
    "#numbered indexes:\n",
    "txt2 = \"My name is {0}, I'm (1)\".format(\"John\",36)\n",
    "\n",
    "print(txt1)\n",
    "print(txt2)"
   ]
  },
  {
   "cell_type": "code",
   "execution_count": 50,
   "metadata": {},
   "outputs": [
    {
     "name": "stdout",
     "output_type": "stream",
     "text": [
      "My name is Alice and I am 30 years old.\n"
     ]
    }
   ],
   "source": [
    "txt = \"My name is {name} and I am {age} years old.\".format(name=\"Alice\", age=30)\n",
    "print(txt)"
   ]
  },
  {
   "cell_type": "code",
   "execution_count": 59,
   "metadata": {},
   "outputs": [
    {
     "name": "stdout",
     "output_type": "stream",
     "text": [
      "Mano vardas Antanas as 40 metu senumo\n"
     ]
    }
   ],
   "source": [
    "txt = \"Mano vardas {vardas} as {amzius} metu senumo\".format(vardas = \"Antanas\", amzius =40)\n",
    "print(txt)"
   ]
  },
  {
   "cell_type": "code",
   "execution_count": 61,
   "metadata": {},
   "outputs": [
    {
     "name": "stdout",
     "output_type": "stream",
     "text": [
      "8 5\n"
     ]
    }
   ],
   "source": [
    "sarasas = [8, 5, 9, 6, 10]\n",
    "pirmas_elementas = sarasas[0]  # 8\n",
    "antro_elementas = sarasas[1]   # 5\n",
    "print(pirmas_elementas, antro_elementas)\n"
   ]
  },
  {
   "cell_type": "code",
   "execution_count": 62,
   "metadata": {},
   "outputs": [
    {
     "name": "stdout",
     "output_type": "stream",
     "text": [
      "[8, 5, 9, 6, 10, 12]\n"
     ]
    }
   ],
   "source": [
    "sarasas = [8, 5, 9, 6, 10]\n",
    "sarasas.append(12)\n",
    "print(sarasas)  # [8, 5, 9, 6, 10, 12]"
   ]
  },
  {
   "cell_type": "code",
   "execution_count": 65,
   "metadata": {},
   "outputs": [
    {
     "name": "stdout",
     "output_type": "stream",
     "text": [
      "Index: 1, Value: 9\n",
      "Index: 2, Value: 2\n",
      "Index: 3, Value: 4\n",
      "Index: 4, Value: 6\n",
      "Index: 5, Value: 9\n"
     ]
    }
   ],
   "source": [
    "sarasas =[9,2,4,6,9]\n",
    "for index, skaicius in enumerate(sarasas, start=1):\n",
    "    print(f\"Index: {index}, Value: {skaicius}\")\n"
   ]
  },
  {
   "cell_type": "code",
   "execution_count": 68,
   "metadata": {},
   "outputs": [
    {
     "name": "stdout",
     "output_type": "stream",
     "text": [
      "Index: 1, skaicius: 9\n",
      "Index: 2, skaicius: 2\n",
      "Index: 3, skaicius: 4\n",
      "Index: 4, skaicius: 6\n",
      "Index: 5, skaicius: 9\n"
     ]
    }
   ],
   "source": [
    "sarasas =[9,2,4,6,9]\n",
    "for index, sarasas in enumerate(sarasas, start=1):\n",
    "    print(f\"Index: {index}, skaicius: {sarasas}\")\n"
   ]
  },
  {
   "cell_type": "code",
   "execution_count": 69,
   "metadata": {},
   "outputs": [
    {
     "name": "stdout",
     "output_type": "stream",
     "text": [
      "69\n",
      "122\n"
     ]
    }
   ],
   "source": [
    "pirmas = [22, 15, 17, 6, 9]\n",
    "\n",
    "# print(22 + 15 + 17 + 6 + 9)\n",
    "\n",
    "antras = [5, 6, 22, 0, 30, 4, 55]\n",
    "\n",
    "# print(5 + 6 + 22 + 0 + 30 + 4 + 55)\n",
    "\n",
    "pirmoSuma = 0\n",
    "\n",
    "for skaicius in pirmas :\n",
    "    pirmoSuma += skaicius\n",
    "\n",
    "print(pirmoSuma)\n",
    "\n",
    "antroSuma = 0\n",
    "\n",
    "for skaicius in antras :\n",
    "    antroSuma += skaicius\n",
    "\n",
    "print(antroSuma)\n"
   ]
  },
  {
   "cell_type": "code",
   "execution_count": 71,
   "metadata": {},
   "outputs": [
    {
     "name": "stdout",
     "output_type": "stream",
     "text": [
      "69\n",
      "122\n",
      "191\n"
     ]
    }
   ],
   "source": [
    "pirmas = [22, 15, 17, 6, 9]\n",
    "\n",
    "# print(22 + 15 + 17 + 6 + 9)\n",
    "\n",
    "antras = [5, 6, 22, 0, 30, 4, 55]\n",
    "\n",
    "# print(5 + 6 + 22 + 0 + 30 + 4 + 55)\n",
    "\n",
    "pirmoSuma = 0\n",
    "\n",
    "for skaicius in pirmas :\n",
    "    pirmoSuma += skaicius\n",
    "\n",
    "print(pirmoSuma)\n",
    "\n",
    "antroSuma = 0\n",
    "\n",
    "for skaicius in antras :\n",
    "    antroSuma += skaicius\n",
    "\n",
    "print(antroSuma)\n",
    "print(pirmoSuma + antroSuma)"
   ]
  }
 ],
 "metadata": {
  "kernelspec": {
   "display_name": "Python 3",
   "language": "python",
   "name": "python3"
  },
  "language_info": {
   "codemirror_mode": {
    "name": "ipython",
    "version": 3
   },
   "file_extension": ".py",
   "mimetype": "text/x-python",
   "name": "python",
   "nbconvert_exporter": "python",
   "pygments_lexer": "ipython3",
   "version": "3.13.0"
  }
 },
 "nbformat": 4,
 "nbformat_minor": 2
}
