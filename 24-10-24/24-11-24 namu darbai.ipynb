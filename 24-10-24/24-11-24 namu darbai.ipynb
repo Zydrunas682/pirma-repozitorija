{
 "cells": [
  {
   "cell_type": "code",
   "execution_count": 3,
   "metadata": {},
   "outputs": [
    {
     "name": "stdout",
     "output_type": "stream",
     "text": [
      "Labas,pasauli\n"
     ]
    }
   ],
   "source": [
    "print(\"Labas,pasauli\")"
   ]
  },
  {
   "cell_type": "code",
   "execution_count": 6,
   "metadata": {},
   "outputs": [
    {
     "name": "stdout",
     "output_type": "stream",
     "text": [
      "Naktis buvo salta! \n",
      "Todel jis kureno peciu,\n",
      "Kad galetu susilti\n"
     ]
    }
   ],
   "source": [
    "print(\"Naktis buvo salta! \\nTodel jis kureno peciu,\\nKad galetu susilti\")"
   ]
  },
  {
   "cell_type": "code",
   "execution_count": 10,
   "metadata": {},
   "outputs": [
    {
     "name": "stdout",
     "output_type": "stream",
     "text": [
      "Labas pasauli\n",
      "Eina peklon\n"
     ]
    }
   ],
   "source": [
    "print(\"Labas pasauli\\nEina peklon\")"
   ]
  },
  {
   "cell_type": "code",
   "execution_count": 26,
   "metadata": {},
   "outputs": [
    {
     "name": "stdout",
     "output_type": "stream",
     "text": [
      "2+2 yra 4\n",
      "4*4 yra 16\n",
      "100-1 yra 99\n",
      "(33+2)/5+11.5 yra 18.5\n"
     ]
    }
   ],
   "source": [
    "print(\"2+2 yra\", 2+2)\n",
    "print(\"4*4 yra\", 4*4)\n",
    "print(\"100-1 yra\", 100-1)\n",
    "print(\"(33+2)/5+11.5 yra\",(33+2)/5+11.5)"
   ]
  },
  {
   "cell_type": "code",
   "execution_count": 27,
   "metadata": {},
   "outputs": [
    {
     "name": "stdout",
     "output_type": "stream",
     "text": [
      "3.142857142857143\n"
     ]
    }
   ],
   "source": [
    "print(22/7)"
   ]
  },
  {
   "cell_type": "code",
   "execution_count": 32,
   "metadata": {},
   "outputs": [
    {
     "name": "stdout",
     "output_type": "stream",
     "text": [
      "Buti ar nebuti,stai kur klausymas.\n",
      "                  ---   Sekspyras \n"
     ]
    }
   ],
   "source": [
    "print(\"Buti ar nebuti,stai kur klausymas.\\n                  ---   Sekspyras \")\n"
   ]
  },
  {
   "cell_type": "code",
   "execution_count": 39,
   "metadata": {},
   "outputs": [
    {
     "name": "stdout",
     "output_type": "stream",
     "text": [
      "Pirmoji klase\n",
      "1 + 1 = 2\n",
      "2 + 4 = 6\n",
      "5 - 2 = 3\n",
      "\n",
      "Trecia klase\n",
      "234 - 23 = 211\n",
      "12 * 4 = 48\n",
      "12 / 3 = 4.0\n",
      "13/3 = 4 liekana 1\n",
      "\n",
      "Penktoji klase\n",
      "123.56 - 62.12 = 61.440000000000005\n",
      "(4 + 3) * 2 14\n",
      "4 + 4 * 2 12\n",
      "3 ** 2 = 9\n"
     ]
    }
   ],
   "source": [
    "print(\"Pirmoji klase\")\n",
    "print(\"1 + 1 =\",1 + 1)\n",
    "print(\"2 + 4 =\", 2 + 4)\n",
    "print(\"5 - 2 =\",5 - 2)\n",
    "print()\n",
    "print(\"Trecia klase\")\n",
    "print(\"234 - 23 =\",234-23)\n",
    "print(\"12 * 4 =\",12 * 4)\n",
    "print(\"12 / 3 =\",12/3)\n",
    "print(\"13/3 =\",13 // 3,\"liekana\",13 % 3)\n",
    "print()\n",
    "print(\"Penktoji klase\")\n",
    "print(\"123.56 - 62.12 =\",123.56 - 62.12)\n",
    "print(\"(4 + 3) * 2\", (4 + 3) * 2)\n",
    "print(\"4 + 4 * 2\", 4 + 4 *2)\n",
    "print(\"3 ** 2 =\",3 ** 2)\n"
   ]
  },
  {
   "cell_type": "code",
   "execution_count": 40,
   "metadata": {},
   "outputs": [
    {
     "name": "stdout",
     "output_type": "stream",
     "text": [
      "Zydrunas\n",
      "Andriulis\n",
      "1972.01.01\n"
     ]
    }
   ],
   "source": [
    "# 1 prendimas\n",
    "print(\"Zydrunas\")\n",
    "print(\"Andriulis\")\n",
    "print(\"1972.01.01\")"
   ]
  },
  {
   "cell_type": "code",
   "execution_count": 50,
   "metadata": {},
   "outputs": [
    {
     "name": "stdout",
     "output_type": "stream",
     "text": [
      "(2023 - 2000) * (9+10), = lygu 437\n"
     ]
    }
   ],
   "source": [
    "print(\"(2023 - 2000) * (9+10), = lygu\" ,(2023 - 2000) * (9+10))"
   ]
  },
  {
   "cell_type": "code",
   "execution_count": 6,
   "metadata": {},
   "outputs": [
    {
     "name": "stdout",
     "output_type": "stream",
     "text": [
      "stok blyn\n",
      "Gali praeiti, niekas\n"
     ]
    }
   ],
   "source": [
    "print(\"stok blyn\")\n",
    "vartotojo_ivestis = input(\"kas cia eina?\")\n",
    "print(\"Gali praeiti,\",vartotojo_ivestis)"
   ]
  },
  {
   "cell_type": "code",
   "execution_count": 8,
   "metadata": {},
   "outputs": [
    {
     "name": "stdout",
     "output_type": "stream",
     "text": [
      "stok blyn\n",
      "Gali praeiti, smekla\n"
     ]
    }
   ],
   "source": [
    "print(\"stok blyn\")  # Atspausdina \"stok blyn\"\n",
    "vartotojo_ivestis = input(\"kas cia eina? \")  # Prašo vartotojo įvesties\n",
    "print(\"Gali praeiti,\", vartotojo_ivestis)  # Atspausdina \"Gali praeiti,\" ir įvestą atsakymą\n"
   ]
  },
  {
   "cell_type": "code",
   "execution_count": 3,
   "metadata": {},
   "outputs": [
    {
     "name": "stdout",
     "output_type": "stream",
     "text": [
      "dokumentus prasau\n",
      "prasome uzeiti, 2\n"
     ]
    }
   ],
   "source": [
    "print(\"dokumentus prasau\")\n",
    "vartotojo_ivestis = input(\"kiek jums metu ?\")\n",
    "print(\"prasome uzeiti,\" , vartotojo_ivestis)"
   ]
  },
  {
   "cell_type": "code",
   "execution_count": null,
   "metadata": {},
   "outputs": [
    {
     "name": "stdout",
     "output_type": "stream",
     "text": [
      "dokumentus prasau\n",
      "prasome uzeiti, 2\n"
     ]
    }
   ],
   "source": [
    "print(\"dokumentus prasau\")  # Atspausdina \"dokumentus prasau\"\n",
    "vartotojo_ivestis = input(\"kiek jums metu? \")  # Prašo vartotojo įvesti, kiek jam metų\n",
    "print(\"prasome uzeiti,\", vartotojo_ivestis)  # Atspausdina \"prasome uzeiti,\" ir vartotojo įvestus metus\n"
   ]
  },
  {
   "cell_type": "code",
   "execution_count": 5,
   "metadata": {},
   "outputs": [
    {
     "name": "stdout",
     "output_type": "stream",
     "text": [
      "Stop!\n",
      "Gali praeiti, as\n"
     ]
    }
   ],
   "source": [
    "print(\"Stop!\")\n",
    "vartotojo_įvestis = input(\"Kas čia eina? \")\n",
    "print(\"Gali praeiti,\",  vartotojo_įvestis )\n"
   ]
  },
  {
   "cell_type": "code",
   "execution_count": null,
   "metadata": {},
   "outputs": [],
   "source": [
    "print"
   ]
  },
  {
   "cell_type": "code",
   "execution_count": 14,
   "metadata": {},
   "outputs": [
    {
     "name": "stdout",
     "output_type": "stream",
     "text": [
      "7\n",
      "6 4.666666666666667 11 liekana 17\n",
      "1 + 2\n"
     ]
    }
   ],
   "source": [
    "# 2 sprendimas\n",
    "print(5 + 2)\n",
    "print(3 +  3 , 14 / 3 , 14 - 3 ,\"liekana\",14 + 3)\n",
    "print(\"1 + 2\")"
   ]
  },
  {
   "cell_type": "code",
   "execution_count": 22,
   "metadata": {},
   "outputs": [
    {
     "name": "stdout",
     "output_type": "stream",
     "text": [
      "a + b yra  555.4\n",
      "vardas yra Zy\n",
      "Gautieji,svarbus ar slamstas\n"
     ]
    }
   ],
   "source": [
    "a = 123.4\n",
    "vardas =\"Zy\"\n",
    "b23 = \"slamstas\"\n",
    "b = 432\n",
    "c = a + b\n",
    "print(\"a + b yra \", c)\n",
    "print(\"vardas yra\",vardas)\n",
    "print(\"Gautieji,svarbus ar\" , b23)"
   ]
  },
  {
   "cell_type": "code",
   "execution_count": null,
   "metadata": {},
   "outputs": [
    {
     "ename": "NameError",
     "evalue": "name 'reiksme1' is not defined",
     "output_type": "error",
     "traceback": [
      "\u001b[1;31m---------------------------------------------------------------------------\u001b[0m",
      "\u001b[1;31mNameError\u001b[0m                                 Traceback (most recent call last)",
      "Cell \u001b[1;32mIn[1], line 1\u001b[0m\n\u001b[1;32m----> 1\u001b[0m \u001b[43mreiksme1\u001b[49m \u001b[38;5;241m==\u001b[39m \u001b[38;5;124m\"\u001b[39m\u001b[38;5;124moho\u001b[39m\u001b[38;5;124m\"\u001b[39m\n\u001b[0;32m      2\u001b[0m reiksme2 \u001b[38;5;241m==\u001b[39m \u001b[38;5;124m\"\u001b[39m\u001b[38;5;124moho\u001b[39m\u001b[38;5;124m\"\u001b[39m\n",
      "\u001b[1;31mNameError\u001b[0m: name 'reiksme1' is not defined"
     ]
    }
   ],
   "source": [
    "reiksme1 == oho\"\n",
    "reiksme2 == \"oho\""
   ]
  },
  {
   "cell_type": "code",
   "execution_count": null,
   "metadata": {},
   "outputs": [
    {
     "name": "stdout",
     "output_type": "stream",
     "text": [
      "4\n",
      "5\n",
      "10\n"
     ]
    }
   ],
   "source": [
    "a = 4      #kintamasis =a\n",
    "print(a)\n",
    "a = a + 1  #a + 1  a = 5\n",
    "print  (a)\n",
    "a = a * 2   # (a=5) * 2 \n",
    "print (a)"
   ]
  },
  {
   "cell_type": "code",
   "execution_count": 27,
   "metadata": {},
   "outputs": [
    {
     "name": "stdout",
     "output_type": "stream",
     "text": [
      "skaicius = 2.2\n",
      "skaicius yra <class 'float'>\n",
      "skaicius * 3 = 4.4\n",
      "sveikas skaicius = 3\n",
      "tekstas *3 = keturiketuriketuri\n",
      "tekstas yra <class 'str'>\n",
      "tekstas = keturi\n",
      "SveikasSkaicius *2 = 6\n",
      "sveikas skaicius yra = <class 'int'>\n",
      "noriu\n"
     ]
    }
   ],
   "source": [
    "# namu darabai\n",
    "skaicius = float(input(\"ivesk skaiciu,su kableliu:\"))\n",
    "SveikasSkaicius = int(input(\"ivesk sveika skaiciu\"))\n",
    "tekstas = input(\"STAIGIAI VEDI TEKSTA\")\n",
    "print(\"skaicius =\",skaicius)\n",
    "print(\"skaicius yra\",type(skaicius))\n",
    "print(\"skaicius * 3 =\",skaicius * 2)\n",
    "print(\"sveikas skaicius =\" , SveikasSkaicius)\n",
    "print(\"tekstas *3 =\",(tekstas * 3))\n",
    "print(\"tekstas yra\",type(tekstas))\n",
    "print(\"tekstas =\", (tekstas))\n",
    "print(\"SveikasSkaicius *2 =\",(SveikasSkaicius *2))\n",
    "print(\"sveikas skaicius yra =\",type(SveikasSkaicius))\n",
    "print(\"noriu\")"
   ]
  },
  {
   "cell_type": "code",
   "execution_count": 43,
   "metadata": {},
   "outputs": [
    {
     "name": "stdout",
     "output_type": "stream",
     "text": [
      "Cia  yra junginys\n",
      "Ha ,Ha ,Ha ,Ha ,\n",
      "Ha ,Ha ,Ha ,Ha ,Ha ,hi\n",
      "2\n"
     ]
    }
   ],
   "source": [
    "print(\"Cia\" + \"  \" + \"yra \" + \"junginys\")\n",
    "print(\"Ha ,\" * 4)\n",
    "print(\"Ha ,\" * 5 + \"hi\")\n",
    "# print(\"3\"-\"1\")\n",
    "print(int(\"3\") -int(\"1\"))\n"
   ]
  },
  {
   "cell_type": "code",
   "execution_count": 47,
   "metadata": {},
   "outputs": [
    {
     "name": "stdout",
     "output_type": "stream",
     "text": [
      "skritulio plotas 3.141592653589793\n"
     ]
    }
   ],
   "source": [
    "# Konstantos\n",
    "PI = 3.141592653589793\n",
    "spindulys = float(input(\"skritulio spindulys\"))\n",
    "plotas = PI * spindulys * spindulys\n",
    "print(\"skritulio plotas\", plotas)"
   ]
  },
  {
   "cell_type": "code",
   "execution_count": 57,
   "metadata": {},
   "outputs": [
    {
     "name": "stdout",
     "output_type": "stream",
     "text": [
      "Ivesk greiti ir atstuma\n",
      "laikas : 0.5\n"
     ]
    }
   ],
   "source": [
    "# Si programa apskaiciuoja laiko prklausomybe nuo greicio ir atstumo\n",
    "print(\"Ivesk greiti ir atstuma\")\n",
    "greiitis = float(input(\"greitis\"))\n",
    "atstumas = float(input(\"atstumas\"))\n",
    "laikas =  (atstumas / greiitis)\n",
    "print(\"laikas :\" ,laikas)"
   ]
  },
  {
   "cell_type": "code",
   "execution_count": 63,
   "metadata": {},
   "outputs": [
    {
     "name": "stdout",
     "output_type": "stream",
     "text": [
      "Iveskite staciakampio info\n",
      "plotas: 9.0\n",
      "plotis: 9.0\n",
      "perimetras: 12.0\n"
     ]
    }
   ],
   "source": [
    "# si programa apskaiciuoja staciakampio perimetra ir plota\n",
    "print(\"Iveskite staciakampio info\")\n",
    "ilgis = float(input(\"ilgis:\"))\n",
    "plotis = float(input(\"plotis:\"))\n",
    "perimetras = (2 * ilgis + 2 * plotis)\n",
    "plotas = ilgis * plotis\n",
    "print(\"plotas:\", plotas)\n",
    "print(\"plotis:\", ilgis * plotis)\n",
    "print(\"perimetras:\", perimetras)"
   ]
  },
  {
   "cell_type": "code",
   "execution_count": 67,
   "metadata": {},
   "outputs": [
    {
     "name": "stdout",
     "output_type": "stream",
     "text": [
      "teperatura celcijaus laipsniais 10.0\n"
     ]
    }
   ],
   "source": [
    "# si programa konvertuoja temperatura isFarenheitu i celciju\n",
    "far_temp = float(input(\"temperatura farenheitais\"))\n",
    "cels_temp = (far_temp - 32.0) #KONVERTAVIMO KOOFICIENTAS\n",
    "print(\"teperatura celcijaus laipsniais\",cels_temp)"
   ]
  },
  {
   "cell_type": "code",
   "execution_count": 69,
   "metadata": {},
   "outputs": [
    {
     "name": "stdout",
     "output_type": "stream",
     "text": [
      "mamaLabas\n",
      "3.2\n"
     ]
    }
   ],
   "source": [
    "# 1. Parašyk programą, kuri priima 2 tekstines reikšmes ir 2 skaičius\n",
    "#  iš vartotojo įvesties, sujungia tekstus be tarpų ir atvaizduoja gautą\n",
    "#  rezultatą, o tada sudaugina du skaičius ir atvaizduoja naujoje \n",
    "# eilutėje.\n",
    "\n",
    "tekstas1 = input(\"tekstas 1:\")\n",
    "tekstas2 = input(\"tekstas 2:\")\n",
    "skaicius1 = float(input(\"skaicius 1:\"))\n",
    "skaicius2 = float(input(\"skaicius 2:\"))\n",
    "print(tekstas1 + tekstas2)\n",
    "print(skaicius1 +skaicius2)"
   ]
  },
  {
   "cell_type": "code",
   "execution_count": 71,
   "metadata": {},
   "outputs": [
    {
     "name": "stdout",
     "output_type": "stream",
     "text": [
      "labas ,as  Zy man 60.0 metu\n"
     ]
    }
   ],
   "source": [
    "# 2. Parašyk programą, kuri paprašytų įvesti savo vardą ir amžių,\n",
    "#  o ji atspausdintų tekstą “Labas, aš {vardas}. Man {metai} metų.”.\n",
    "#  Kur {vardas} ir {metai} yra įvesti duomenys.\n",
    "\n",
    "vardas = input(\"iveskite varda\")\n",
    "metai = float(input(\"iveskite savo metus\"))\n",
    "print(\"labas ,as \",vardas,\"man\" ,metai,\"metu\")"
   ]
  },
  {
   "cell_type": "code",
   "execution_count": 75,
   "metadata": {},
   "outputs": [
    {
     "name": "stdout",
     "output_type": "stream",
     "text": [
      "70.0 s = 1.1666666666666667 min\n"
     ]
    }
   ],
   "source": [
    "# 3. Parašyk programą, kuriai įvestum sekundžių skaičių,\n",
    "#  o ji išvestų, kiek tai yra minučių.\n",
    "sekundes = float(input(\"Iveskite sekudziu skaiciu\"))\n",
    "minutes = sekundes / 60\n",
    "print(sekundes,\"s =\",minutes, \"min\")"
   ]
  }
 ],
 "metadata": {
  "kernelspec": {
   "display_name": "Python 3",
   "language": "python",
   "name": "python3"
  },
  "language_info": {
   "codemirror_mode": {
    "name": "ipython",
    "version": 3
   },
   "file_extension": ".py",
   "mimetype": "text/x-python",
   "name": "python",
   "nbconvert_exporter": "python",
   "pygments_lexer": "ipython3",
   "version": "3.13.0"
  }
 },
 "nbformat": 4,
 "nbformat_minor": 2
}
