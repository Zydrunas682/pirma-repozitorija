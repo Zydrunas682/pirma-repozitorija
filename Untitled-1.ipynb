{
 "cells": [
  {
   "cell_type": "code",
   "execution_count": 4,
   "metadata": {},
   "outputs": [
    {
     "name": "stdout",
     "output_type": "stream",
     "text": [
      "H\n",
      "metimas sustabdytas, iskrito herbas\n"
     ]
    }
   ],
   "source": [
    "import   random\n",
    "# 1 scenarijus: monetos metimas sustabdomas iškritus herbui\n",
    "while True:\n",
    "    metimas = random.randint(0, 1)  \n",
    "    if metimas == 0:\n",
    "        print(\"H\")  \n",
    "        break\n",
    "    else:\n",
    "        print(\"S\")  \n",
    "print(\"metimas sustabdytas, iskrito herbas\")"
   ]
  },
  {
   "cell_type": "code",
   "execution_count": 10,
   "metadata": {},
   "outputs": [
    {
     "name": "stdout",
     "output_type": "stream",
     "text": [
      "Klaida: Dalyba iš 0 yra negalima.\n"
     ]
    }
   ],
   "source": [
    "try:\n",
    "    # Prašome vartotojo įvesti skaičius A ir B\n",
    "    A = float(input(\"Įveskite skaičių A: \"))\n",
    "    B = float(input(\"Įveskite skaičių B: \"))\n",
    "\n",
    "    # Prašome vartotojo pasirinkti matematinį veiksmą\n",
    "    veiksmas = input(\"Pasirinkite veiksmą (+, −, /, *): \")\n",
    "\n",
    "    if veiksmas == '+':\n",
    "        rezultatas = A + B\n",
    "    elif veiksmas == '-':\n",
    "        rezultatas = A - B\n",
    "    elif veiksmas == '*':\n",
    "        rezultatas = A * B\n",
    "    elif veiksmas == '/':\n",
    "        if B == 0:\n",
    "            raise ValueError(\"Dalyba iš 0 yra negalima.\")  # Keliame klaidą, jei B yra 0\n",
    "        rezultatas = A / B\n",
    "    else:\n",
    "        raise ValueError(\"Neteisingas veiksmas. Pasirinkite vieną iš: +, −, /, *\")\n",
    "\n",
    "    print(f\"Rezultatas: {rezultatas}\")\n",
    "\n",
    "except ValueError as e:\n",
    "    print(\"Klaida:\", e)\n",
    "except Exception as e:\n",
    "    print(\"Nepavyko atlikti operacijos:\", e)\n"
   ]
  },
  {
   "cell_type": "code",
   "execution_count": 11,
   "metadata": {},
   "outputs": [
    {
     "name": "stdout",
     "output_type": "stream",
     "text": [
      "Mano vardas yra Jonas, o man yra 30 metų.\n"
     ]
    }
   ],
   "source": [
    "name = \"Jonas\"\n",
    "age = 30\n",
    "message = f\"Mano vardas yra {name}, o man yra {age} metų.\"\n",
    "print(message)\n"
   ]
  },
  {
   "cell_type": "code",
   "execution_count": 14,
   "metadata": {},
   "outputs": [
    {
     "name": "stdout",
     "output_type": "stream",
     "text": [
      "mano vardas Zydrunas, o amzius 40\n"
     ]
    }
   ],
   "source": [
    "vardas = \"Zydrunas\"\n",
    "amzius = 40\n",
    "zinute = f\"mano vardas {vardas}, o amzius {amzius}\"\n",
    "print(zinute)"
   ]
  },
  {
   "cell_type": "code",
   "execution_count": null,
   "metadata": {},
   "outputs": [],
   "source": [
    "try:\n",
    "    # Prašome vartotojo įvesti skaičius A ir B\n",
    "    A = float(input(\"Įveskite skaičių A: \"))  # Bandome konvertuoti į float\n",
    "    B = float(input(\"Įveskite skaičių B: \"))  # Bandome konvertuoti į float\n",
    "\n",
    "    # Prašome vartotojo pasirinkti matematinį veiksmą\n",
    "    veiksmas = input(\"Pasirinkite veiksmą (+, −, /, *): \")\n",
    "\n",
    "    if veiksmas == '+':\n",
    "        rezultatas = A + B\n",
    "    elif veiksmas == '-':\n",
    "        rezultatas = A - B\n",
    "    elif veiksmas == '*':\n",
    "        rezultatas = A * B\n",
    "    elif veiksmas == '/':\n",
    "        if B == 0:\n",
    "            raise ZeroDivisionError(\"Dalyba iš 0 yra negalima.\")  # Keliame klaidą, jei B yra 0\n",
    "        rezultatas = A / B\n",
    "    else:\n",
    "        raise ValueError(\"Neteisingas veiksmas. Pasirinkite vieną iš: +, −, /, *\")\n",
    "\n",
    "    print(f\"Rezultatas: {rezultatas}\")\n",
    "\n",
    "except ValueError as e:\n",
    "    print(\"Klaida:\", e)  # Apdorojame neteisingą skaičių ar veiksmą\n",
    "except ZeroDivisionError as e:\n",
    "    print(\"Klaida:\", e)  # Apdorojame dalybą iš 0\n",
    "except Exception as e:\n",
    "    print(\"Nepavyko atlikti operacijos:\", e)  # Apdorojame kitas galimas klaidas\n"
   ]
  },
  {
   "cell_type": "code",
   "execution_count": 17,
   "metadata": {},
   "outputs": [
    {
     "name": "stdout",
     "output_type": "stream",
     "text": [
      "Įvedėte skaičių: 6\n"
     ]
    }
   ],
   "source": [
    "try:\n",
    "    # Bandome konvertuoti įvestį į skaičių\n",
    "    number = int(input(\"Įveskite skaičių: \"))\n",
    "    print(f\"Įvedėte skaičių: {number}\")\n",
    "except ValueError:\n",
    "    print(\"Klaida: Prašome įvesti teisingą skaičių.\")\n"
   ]
  },
  {
   "cell_type": "code",
   "execution_count": 24,
   "metadata": {
    "tags": [
     "parameters"
    ]
   },
   "outputs": [
    {
     "ename": "_IncompleteInputError",
     "evalue": "incomplete input (2912146335.py, line 4)",
     "output_type": "error",
     "traceback": [
      "\u001b[1;36m  Cell \u001b[1;32mIn[24], line 4\u001b[1;36m\u001b[0m\n\u001b[1;33m    print(f\"ivedete skaiciu:{skaicius}\")\u001b[0m\n\u001b[1;37m                                        ^\u001b[0m\n\u001b[1;31m_IncompleteInputError\u001b[0m\u001b[1;31m:\u001b[0m incomplete input\n"
     ]
    }
   ],
   "source": [
    "try:\n",
    " \n",
    " numeris = int(input)(\"iveskite skaiciu\")\n",
    " print(f\"ivedete skaiciu:{skaicius}\")"
   ]
  }
 ],
 "metadata": {
  "kernelspec": {
   "display_name": "Python 3",
   "language": "python",
   "name": "python3"
  },
  "language_info": {
   "codemirror_mode": {
    "name": "ipython",
    "version": 3
   },
   "file_extension": ".py",
   "mimetype": "text/x-python",
   "name": "python",
   "nbconvert_exporter": "python",
   "pygments_lexer": "ipython3",
   "version": "3.13.0"
  }
 },
 "nbformat": 4,
 "nbformat_minor": 2
}
