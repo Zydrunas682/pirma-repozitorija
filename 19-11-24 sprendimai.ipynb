{
 "cells": [
  {
   "cell_type": "code",
   "execution_count": 41,
   "metadata": {},
   "outputs": [
    {
     "name": "stdout",
     "output_type": "stream",
     "text": [
      "Vaisius ID: 3146604, Dydis: 7, Prakastas: False\n",
      "Vaisius ID: 7512501, Dydis: 29, Prakastas: False\n",
      "Vaisius ID: 9074553, Dydis: 14, Prakastas: False\n"
     ]
    }
   ],
   "source": [
    "# Papildomas\n",
    "\n",
    "# Sukurkite klasę Vaisius, kuris turi: \n",
    "# savybę dydis rand 5 - 25; \n",
    "# savybę id rand 1000000 - 9999999 \n",
    "# savybę prakastas False \n",
    "\n",
    "import random\n",
    "\n",
    "class Vaisius:\n",
    "    def __init__(self):\n",
    "        # Atsitiktinis dydis tarp 5 ir 30\n",
    "        self.dydis = random.randint(5, 30)\n",
    "        \n",
    "        # Atsitiktinis ID tarp 1,000,000 ir 9,999,999\n",
    "        self.id = random.randint(1000000, 9999999)\n",
    "        \n",
    "        # Vaisius nesugedęs, pradinė reikšmė False\n",
    "        self.sugedes = False\n",
    "\n",
    "    def __str__(self):\n",
    "        \"\"\"Grąžina vaisiaus informaciją kaip tekstą.\"\"\"\n",
    "        return f\"Vaisius ID: {self.id}, Dydis: {self.dydis}, Prakastas: {self.sugedes}\"\n",
    "\n",
    "# Sukuriame Vaisius objektą\n",
    "vaisius1 = Vaisius()\n",
    "vaisius2 = Vaisius()\n",
    "vaisius3 = Vaisius()\n",
    "\n",
    "# Išvedame vaisiaus informaciją\n",
    "print(vaisius1)\n",
    "print(vaisius2)\n",
    "print(vaisius3)\n",
    "\n",
    "\n",
    "\n",
    "\n",
    "\n"
   ]
  },
  {
   "cell_type": "code",
   "execution_count": 46,
   "metadata": {},
   "outputs": [
    {
     "name": "stdout",
     "output_type": "stream",
     "text": [
      "Vaisius ID: 4859159, Dydis: 24, Prakastas: False\n",
      "Vaisius su ID 4859159 dabar yra prakastas.\n",
      "Vaisius ID: 4859159, Dydis: 24, Prakastas: True\n"
     ]
    }
   ],
   "source": [
    "# extra 2 :Sukurkite metodą prakasti(), kuris savybės prakąstas reikšmę keistų į True. \n",
    "\n",
    "import random\n",
    "\n",
    "class Vaisius:\n",
    "    def __init__(self):\n",
    "        # Atsitiktinis dydis tarp 5 ir 30\n",
    "        self.dydis = random.randint(5, 30)\n",
    "        \n",
    "        # Atsitiktinis ID tarp 1,000,000 ir 9,999,999\n",
    "        self.id = random.randint(1000000, 9999999)\n",
    "        \n",
    "        # Vaisius nėra prakastas, pradinė reikšmė False\n",
    "        self.sugedes = False\n",
    "\n",
    "    def __str__(self):\n",
    "        \"\"\"Grąžina vaisiaus informaciją kaip tekstą.\"\"\"\n",
    "        return f\"Vaisius ID: {self.id}, Dydis: {self.dydis}, Prakastas: {self.sugedes}\"\n",
    "    \n",
    "    def prakasti(self):\n",
    "        \"\"\"Keičia vaisiaus 'prakastas' savybę į True.\"\"\"\n",
    "        self.sugedes = True\n",
    "        print(f\"Vaisius su ID {self.id} dabar yra prakastas.\")\n",
    "\n",
    "# Sukuriame Vaisius objektą\n",
    "vaisius = Vaisius()\n",
    "\n",
    "# Išvedame vaisiaus informaciją prieš prakastą\n",
    "print(vaisius)\n",
    "\n",
    "# Prakastame vaisių\n",
    "vaisius.prakasti()\n",
    "\n",
    "# Išvedame vaisiaus informaciją po prakasto\n",
    "print(vaisius)\n",
    "\n"
   ]
  },
  {
   "cell_type": "code",
   "execution_count": 1,
   "metadata": {},
   "outputs": [
    {
     "name": "stdout",
     "output_type": "stream",
     "text": [
      "Gardūs vaisiai: ['Obuolys', 'Bananai', 'Kriaušė']\n"
     ]
    }
   ],
   "source": [
    "# Štai kaip galite sukurti Python klasę Krepšys, kuri turi statinę \n",
    "# savybę vaisiai (sąrašą):?\n",
    "\n",
    "class Krepšys:\n",
    "    vaisiai = []  # Statinė savybė vaisiai, kuri yra sąrašas\n",
    "    \n",
    "    @classmethod\n",
    "    def prideti_vaisiu(self, vaisius):\n",
    "        \"\"\"Metodas, kuris prideda vaisių į vaisių sąrašą.\"\"\"\n",
    "        self.vaisiai.append(vaisius)\n",
    "    \n",
    "    @classmethod\n",
    "    def parodyti_vaisius(cls):\n",
    "        \"\"\"Metodas, kuris parodo visus vaisius sąraše.\"\"\"\n",
    "        return cls.vaisiai\n",
    "    \n",
    "# Pavyzdys, kaip naudoti klasę:\n",
    "krepšys1 = Krepšys()\n",
    "krepšys1.prideti_vaisiu(\"Obuolys\")\n",
    "krepšys1.prideti_vaisiu(\"Bananai\")\n",
    "\n",
    "krepšys2 = Krepšys()\n",
    "krepšys2.prideti_vaisiu(\"Kriaušė\")\n",
    "print(f\"Gardūs vaisiai: {krepšys1.parodyti_vaisius()}\")\n"
   ]
  },
  {
   "cell_type": "code",
   "execution_count": 59,
   "metadata": {},
   "outputs": [
    {
     "name": "stdout",
     "output_type": "stream",
     "text": [
      "Sveikas, pasauli!\n"
     ]
    }
   ],
   "source": [
    "print(\"Sveikas, pasauli!\")"
   ]
  }
 ],
 "metadata": {
  "kernelspec": {
   "display_name": "Python 3",
   "language": "python",
   "name": "python3"
  },
  "language_info": {
   "codemirror_mode": {
    "name": "ipython",
    "version": 3
   },
   "file_extension": ".py",
   "mimetype": "text/x-python",
   "name": "python",
   "nbconvert_exporter": "python",
   "pygments_lexer": "ipython3",
   "version": "3.13.0"
  }
 },
 "nbformat": 4,
 "nbformat_minor": 2
}
