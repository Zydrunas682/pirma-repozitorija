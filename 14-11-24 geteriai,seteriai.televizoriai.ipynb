{
 "cells": [
  {
   "cell_type": "code",
   "execution_count": 4,
   "metadata": {},
   "outputs": [
    {
     "name": "stdout",
     "output_type": "stream",
     "text": [
      "objekta padariau\n"
     ]
    }
   ],
   "source": [
    "# Parašykite klasę, turinčią konstruktorių. Konstruktorius turi\n",
    "# spausdinti pranešimą, jog objektas yra sukurtas.\n",
    "class ManoKlase :\n",
    "    def __init__(self):\n",
    "        print('objekta padariau')\n",
    "\n",
    "objektas = ManoKlase()\n",
    "        "
   ]
  },
  {
   "cell_type": "code",
   "execution_count": null,
   "metadata": {},
   "outputs": [
    {
     "name": "stdout",
     "output_type": "stream",
     "text": [
      "objektas yra niokojamas!!!\n",
      "objektas kuriamas\n"
     ]
    }
   ],
   "source": [
    "#  2. Parašykite klasę, kuri turėtų konstruktorių, destruktorių. Abu\n",
    "# turi spausdinti informacinį pranešimą, jog objektas yra\n",
    "# sukurtas/sunaikintas.\n",
    "# class ManoKlase :\n",
    "\n",
    "#     def __init__(self):\n",
    "       \n",
    "#        print(\"objektas yra niokojamas!!!\")\n",
    "#     def __del__ (self):\n",
    "#        print(\"objektas kuriamas\")\n",
    "\n",
    "# objektas = ManoKlase()\n",
    "\n",
    "# del objektas"
   ]
  },
  {
   "cell_type": "code",
   "execution_count": 26,
   "metadata": {},
   "outputs": [
    {
     "name": "stdout",
     "output_type": "stream",
     "text": [
      "Objektas yra sukurtas!\n",
      "Objektas yra sunaikintas!\n"
     ]
    },
    {
     "data": {
      "text/plain": [
       "7"
      ]
     },
     "execution_count": 26,
     "metadata": {},
     "output_type": "execute_result"
    }
   ],
   "source": [
    "import gc\n",
    "class ManoKlase:\n",
    "    def __init__(self):\n",
    "        # Konstruktoriumi pranešame, kad objektas sukurtas\n",
    "        print(\"Objektas yra sukurtas!\")\n",
    "\n",
    "    def __del__(self):\n",
    "        # Destruktoriu pranešame, kad objektas sunaikintas\n",
    "        print(\"Objektas yra sunaikintas!\")\n",
    "\n",
    "# Sukuriame objektą\n",
    "objektas = ManoKlase()\n",
    "\n",
    "# Pašaliname objektą (tai įvyksta automatiškai, kai objektas nebenaudojamas)\n",
    "del objektas\n",
    "gc . collect()"
   ]
  },
  {
   "cell_type": "code",
   "execution_count": 29,
   "metadata": {},
   "outputs": [
    {
     "name": "stdout",
     "output_type": "stream",
     "text": [
      "Pradine atributo reiksme: 10\n",
      "Pakitusi atributo reiksme: 20\n"
     ]
    }
   ],
   "source": [
    "# 3 Parašykite klasę, kuri turėtų vieną atributą. Pasiekite jo\n",
    "# reikšmę, išveskite. Pakeiskite atributo reikšmę. Patikrinkite,\n",
    "# ar reikšmė pakito.\n",
    "class ManoKlase:\n",
    "    def __init__(self , reiksme):\n",
    "        self.atributas  = reiksme\n",
    "objektas =ManoKlase(10)\n",
    "print(f\"Pradine atributo reiksme: {objektas.atributas}\")\n",
    "objektas.atributas = 20\n",
    "print(f\"Pakitusi atributo reiksme: {objektas.atributas}\")"
   ]
  },
  {
   "cell_type": "code",
   "execution_count": null,
   "metadata": {},
   "outputs": [],
   "source": [
    "# 4 Prie ankstesnės klasės pridėkite metodus, skirtus išvesti\n",
    "# atributo reikšmę, pakeisti atributo reikšmę. patikrinkite, ar jie\n",
    "# veikia.\n",
    "class ManoKlase:\n",
    "    def __init__(self, reiksme):\n",
    "        # Atributas, kurį inicializuosime konstruktoriuje\n",
    "        self.atributas = reiksme\n",
    "\n",
    "    def gauti_atributo_reiksme(self):\n",
    "        # Metodas, kuris grąžina atributo reikšmę\n",
    "        return self.atributas\n",
    "\n",
    "    def pakeisti_atributo_reiksme(self, nauja_reiksme):\n",
    "        # Metodas, kuris pakeičia atributo reikšmę\n",
    "        self.atributas = nauja_reiksme\n",
    "\n",
    "# Sukuriame objektą su pradiniu atributu\n",
    "objektas = ManoKlase(10)\n",
    "\n",
    "# Išvedame pradinę atributo reikšmę naudojant metodą\n",
    "print(f\"Pradinė atributo reikšmė: {objektas.gauti_atributo_reiksme()}\")\n",
    "\n",
    "# Pakeičiame atributo reikšmę naudojant metodą\n",
    "objektas.pakeisti_atributo_reiksme(20)\n",
    "\n",
    "# Patikriname, ar reikšmė pasikeitė\n",
    "print(f\"Pakitusi atributo reikšmė: {objektas.gauti_atributo_reiksme()}\")\n"
   ]
  },
  {
   "cell_type": "code",
   "execution_count": null,
   "metadata": {},
   "outputs": [
    {
     "name": "stdout",
     "output_type": "stream",
     "text": [
      "Televizorius 'Sony, hitachi,' šiuo metu rodo 1 kanalą. Garso lygis 50.\n",
      "Televizorius 'Sony, hitachi,' šiuo metu rodo 1 kanalą. Garso lygis 51.\n",
      "Televizorius 'Sony, hitachi,' šiuo metu rodo 8 kanalą. Garso lygis 51.\n",
      "Kanalo numeris per didelis, nustatome į pirmą kanalą.\n",
      "Televizorius 'Sony, hitachi,' šiuo metu rodo 1 kanalą. Garso lygis 51.\n",
      "Televizorius 'Sony, hitachi,' šiuo metu rodo 1 kanalą. Garso lygis 50.\n",
      "Televizorius 'Sony, hitachi,' šiuo metu rodo 1 kanalą. Garso lygis 50.\n"
     ]
    }
   ],
   "source": [
    "# Televizorius\n",
    "\n",
    "# Aprašykite klasę “Televizorius” su nurodytomis savybėmis: \n",
    "\n",
    "\n",
    "# Gamintojas, \n",
    "# Kanalas \n",
    "# Garsas. \n",
    "\n",
    "\n",
    "# Gamintojo pavadinimą priskirkite konstruktoriuje kaip gautą parametrą. Vos tik įjungus televizorių turėtų būti parinktas pirmas kanalas, o garso lygis 50. Sukurkite metodus kurie padidintų ir sumažintų televizoriaus garsą, tačiau šis niekuomet negali būti žemiau nei 0 ir aukščiau nei 100. \n",
    "# Sukurkite metodą kuris keistų kanalą, tačiau atkreipkite dėmesį, kad gal televizorius jų turi tik 50, tad jei pultelyje įvesite didesnį skaičių, kanalas turi būti pakeičiamas į pirmajį.\n",
    "# Sukurkite metodą, kuris atstatytų televizorių atgal į gamyklinius parametrus.\n",
    "# Sukurkite metodą, kuris grąžintų eilutę “Televizorius ‘Sony’ šiuo metu rodo 8 kanalą. Garso lygis 76.”\n",
    "\n",
    "\n",
    "class Televizorius:\n",
    "    def __init__(self, gamintojas):\n",
    "        # Konstruktorius, nustato gamintoją ir pradinius parametrus\n",
    "        self.gamintojas = gamintojas\n",
    "        self.kanalas = 1  # Pirmas kanalas\n",
    "        self.garsas = 50  # Pradinis garsas\n",
    "\n",
    "    def padidinti_garsa(self):\n",
    "        # Padidinti garsą (neviršyti 100)\n",
    "        if self.garsas < 100:\n",
    "            self.garsas += 1\n",
    "        else:\n",
    "            print(\"Garso lygis jau maksimalus!\")\n",
    "\n",
    "    def sumazinti_garsa(self):\n",
    "        # Sumažinti garsą (ne mažiau nei 0)\n",
    "        if self.garsas > 0:\n",
    "            self.garsas -= 1\n",
    "        else:\n",
    "            print(\"Garso lygis jau minimalus!\")\n",
    "\n",
    "    def keisti_kanala(self, naujas_kanalas):\n",
    "        # Keisti kanalą (ne daugiau nei 50)\n",
    "        if 1 <= naujas_kanalas <= 50:\n",
    "            self.kanalas = naujas_kanalas\n",
    "        else:\n",
    "            # Jei kanalas neleistinas, nustatome pirmą kanalą\n",
    "            print(\"Kanalo numeris per didelis, nustatome į pirmą kanalą.\")\n",
    "            self.kanalas = 1\n",
    "\n",
    "    def gamykliniai_parametrai(self):\n",
    "        # Atstatyti televizorių į pradinius parametrus\n",
    "        self.kanalas = 1\n",
    "        self.garsas = 50\n",
    "\n",
    "    def apibrezimas(self):\n",
    "        # Grąžinti televizoriaus aprašymą\n",
    "        return f\"Televizorius '{self.gamintojas}' šiuo metu rodo {self.kanalas} kanalą. Garso lygis {self.garsas}.\"\n",
    "\n",
    "\n",
    "# Sukuriame televizorių su gamintojo pavadinimu\n",
    "televizorius = Televizorius(\"Sony,\")\n",
    "\n",
    "# Patikriname aprašymą\n",
    "print(televizorius.apibrezimas())\n",
    "\n",
    "# Padidiname garsą\n",
    "televizorius.padidinti_garsa()\n",
    "print(televizorius.apibrezimas())\n",
    "\n",
    "# Keičiam kanalą\n",
    "televizorius.keisti_kanala(8)\n",
    "print(televizorius.apibrezimas())\n",
    "\n",
    "# Pabandome nustatyti kanalą už ribų\n",
    "televizorius.keisti_kanala(52)\n",
    "print(televizorius.apibrezimas())\n",
    "\n",
    "# Sumažiname garsą\n",
    "televizorius.sumazinti_garsa()\n",
    "print(televizorius.apibrezimas())\n",
    "\n",
    "# Atstatome į gamyklinius parametrus\n",
    "televizorius.gamykliniai_parametrai()\n",
    "print(televizorius.apibrezimas())\n"
   ]
  }
 ],
 "metadata": {
  "kernelspec": {
   "display_name": "Python 3",
   "language": "python",
   "name": "python3"
  },
  "language_info": {
   "codemirror_mode": {
    "name": "ipython",
    "version": 3
   },
   "file_extension": ".py",
   "mimetype": "text/x-python",
   "name": "python",
   "nbconvert_exporter": "python",
   "pygments_lexer": "ipython3",
   "version": "3.13.0"
  }
 },
 "nbformat": 4,
 "nbformat_minor": 2
}
