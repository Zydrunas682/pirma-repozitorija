{
 "cells": [
  {
   "cell_type": "code",
   "execution_count": null,
   "metadata": {},
   "outputs": [],
   "source": [
    "vardas = input(\"ivesk savo varda\")\n",
    "amzius = input (\"ivesk savo amziu\")\n",
    "print(\"labas,mano vardas \", vardas,\". Man \", amzius,\"metu.\")"
   ]
  },
  {
   "cell_type": "code",
   "execution_count": 3,
   "metadata": {},
   "outputs": [
    {
     "name": "stdout",
     "output_type": "stream",
     "text": [
      "60 s = 1.0 min\n"
     ]
    }
   ],
   "source": [
    "sekundes = int(input(\"ivesk sekundziu skaiciu:\"))\n",
    "minutes= sekundes / 60\n",
    "print(sekundes , \"s =\" ,minutes, \"min\")"
   ]
  },
  {
   "cell_type": "code",
   "execution_count": 6,
   "metadata": {},
   "outputs": [
    {
     "name": "stdout",
     "output_type": "stream",
     "text": [
      "Man,yra netavo reikalas siandiena 30\n"
     ]
    }
   ],
   "source": [
    "metai = input(\"kiek tau metu\")\n",
    "diena = input(\"kokia savaites diena\")\n",
    "print(\"Man,yra\", metai , \"siandiena\" , diena)"
   ]
  }
 ],
 "metadata": {
  "kernelspec": {
   "display_name": "Python 3",
   "language": "python",
   "name": "python3"
  },
  "language_info": {
   "codemirror_mode": {
    "name": "ipython",
    "version": 3
   },
   "file_extension": ".py",
   "mimetype": "text/x-python",
   "name": "python",
   "nbconvert_exporter": "python",
   "pygments_lexer": "ipython3",
   "version": "3.13.0"
  }
 },
 "nbformat": 4,
 "nbformat_minor": 2
}
